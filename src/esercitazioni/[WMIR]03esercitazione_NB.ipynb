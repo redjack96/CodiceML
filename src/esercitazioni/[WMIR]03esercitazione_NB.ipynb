{
 "cells": [
  {
   "cell_type": "markdown",
   "metadata": {
    "id": "yXol5eu5-x5u"
   },
   "source": [
    "# Required Libraries"
   ]
  },
  {
   "cell_type": "code",
   "execution_count": 14,
   "metadata": {
    "id": "mYIQcuxb35nP"
   },
   "outputs": [],
   "source": [
    "from sklearn.datasets import fetch_20newsgroups\n",
    "from sklearn.feature_extraction.text import TfidfVectorizer\n",
    "from sklearn.metrics import accuracy_score, classification_report, confusion_matrix, f1_score\n",
    "from sklearn.metrics.pairwise import cosine_similarity\n",
    "from sklearn.naive_bayes import MultinomialNB, BernoulliNB\n",
    "\n",
    "from pprint import pprint\n",
    "import numpy as np"
   ]
  },
  {
   "cell_type": "markdown",
   "metadata": {
    "id": "9_cPhrPV-06-"
   },
   "source": [
    "# Dataset\n",
    "Load the dataset and print the classes"
   ]
  },
  {
   "cell_type": "code",
   "execution_count": 15,
   "metadata": {
    "colab": {
     "base_uri": "https://localhost:8080/"
    },
    "id": "wOgsW_Q06IqN",
    "outputId": "688cf7ec-89d1-4f73-d07b-a6d55f5e77ee"
   },
   "outputs": [
    {
     "name": "stdout",
     "output_type": "stream",
     "text": [
      "['alt.atheism',\n",
      " 'comp.graphics',\n",
      " 'comp.os.ms-windows.misc',\n",
      " 'comp.sys.ibm.pc.hardware',\n",
      " 'comp.sys.mac.hardware',\n",
      " 'comp.windows.x',\n",
      " 'misc.forsale',\n",
      " 'rec.autos',\n",
      " 'rec.motorcycles',\n",
      " 'rec.sport.baseball',\n",
      " 'rec.sport.hockey',\n",
      " 'sci.crypt',\n",
      " 'sci.electronics',\n",
      " 'sci.med',\n",
      " 'sci.space',\n",
      " 'soc.religion.christian',\n",
      " 'talk.politics.guns',\n",
      " 'talk.politics.mideast',\n",
      " 'talk.politics.misc',\n",
      " 'talk.religion.misc']\n"
     ]
    }
   ],
   "source": [
    "# Load the Reuters dataset\n",
    "newsgroups_train = fetch_20newsgroups(subset='train', shuffle=True, random_state=42, remove=('headers', 'footers', 'quotes'))\n",
    "newsgroups_test = fetch_20newsgroups(subset='test', shuffle=True, random_state=42, remove=('headers', 'footers', 'quotes'))\n",
    "\n",
    "classes = list(newsgroups_train.target_names)\n",
    "pprint(classes)"
   ]
  },
  {
   "cell_type": "markdown",
   "metadata": {
    "id": "CsSHpQcg-6Uf"
   },
   "source": [
    "Let's see the first example. It's a letter form."
   ]
  },
  {
   "cell_type": "code",
   "execution_count": 16,
   "metadata": {
    "colab": {
     "base_uri": "https://localhost:8080/"
    },
    "id": "fYUV9trA7JWW",
    "outputId": "1b8773f1-2128-4213-d502-cdfc92a21579"
   },
   "outputs": [
    {
     "name": "stdout",
     "output_type": "stream",
     "text": [
      "SHAPE  (11314,)\n",
      "----------------------------------------\n",
      "I was wondering if anyone out there could enlighten me on this car I saw\n",
      "the other day. It was a 2-door sports car, looked to be from the late 60s/\n",
      "early 70s. It was called a Bricklin. The doors were really small. In addition,\n",
      "the front bumper was separate from the rest of the body. This is \n",
      "all I know. If anyone can tellme a model name, engine specs, years\n",
      "of production, where this car is made, history, or whatever info you\n",
      "have on this funky looking car, please e-mail.\n",
      "----------------------------------------\n",
      "7 => rec.autos\n"
     ]
    }
   ],
   "source": [
    "print(\"SHAPE \", newsgroups_train.filenames.shape)\n",
    "print(\"----------------------------------------\")\n",
    "print(newsgroups_train.data[0])\n",
    "print(\"----------------------------------------\")\n",
    "print(newsgroups_train.target[0], \"=>\", classes[newsgroups_train.target[0]])"
   ]
  },
  {
   "cell_type": "markdown",
   "metadata": {
    "id": "7C0DhN_m-_jD"
   },
   "source": [
    "# Preprocessing"
   ]
  },
  {
   "attachments": {},
   "cell_type": "markdown",
   "metadata": {
    "id": "IKZaxmMn_Bqp"
   },
   "source": [
    "Preprocessiamo ogni esempio del training. Rimuoviamo le parole \"stopwords\" e calcoliamo la rappresentazione vettoriale tf-idf.\n",
    "\n",
    "La rappresentazione della matrice è sparsa: viene mostrato un elenco di celle non nulle.\n",
    "(riga, colonna) valore\n",
    "\n",
    "Ad esempio\n",
    "(0, 59071)\t0.10043853867312116 \n",
    "\n",
    "In particolare, significano:\n",
    "(numero frase, indice della parola nel dizionario)  valore tf-idf\n",
    "\n",
    "Se provi a cercare un indice non elencato nella lista, otterrai valore 0.0"
   ]
  },
  {
   "cell_type": "code",
   "execution_count": 17,
   "metadata": {
    "id": "GH72VuMK6KI9"
   },
   "outputs": [],
   "source": [
    "# Extract features from the dataset - traduciamo le parole in vettori.\n",
    "vectorizer = TfidfVectorizer(stop_words='english')\n",
    "X_train = vectorizer.fit_transform(newsgroups_train.data) # impara dal training set la matrice SPARSA tf-idf\n",
    "X_test = vectorizer.transform(newsgroups_test.data) # riutilizza la tf-idf per assegnarla alle parole nel testing set\n",
    "y_train = newsgroups_train.target\n",
    "y_test = newsgroups_test.target\n",
    "\n",
    "# len(vectorizer.get_feature_names_out())"
   ]
  },
  {
   "cell_type": "markdown",
   "metadata": {
    "id": "U-xYnpvWFqDL"
   },
   "source": [
    "Let's see what's inside after the transformation"
   ]
  },
  {
   "cell_type": "code",
   "execution_count": 18,
   "metadata": {
    "colab": {
     "base_uri": "https://localhost:8080/"
    },
    "id": "NIO985nxCpBd",
    "outputId": "68b0386a-b55c-466d-cad4-20adaee90e85"
   },
   "outputs": [
    {
     "name": "stdout",
     "output_type": "stream",
     "text": [
      "  (0, 59071)\t0.10043853867312116\n",
      "  (0, 57250)\t0.1063473585616558\n",
      "  (0, 41874)\t0.224548896412017\n",
      "  (0, 49800)\t0.11869932893481257\n",
      "  (0, 46690)\t0.12504220873599214\n",
      "  (0, 73174)\t0.16142029533900565\n",
      "  (0, 99608)\t0.09418459052541318\n",
      "  (0, 84050)\t0.16329311028814825\n",
      "  (0, 37208)\t0.1434127293323407\n",
      "  (0, 62594)\t0.13037295035007848\n",
      "  (0, 87913)\t0.25808578247347563\n",
      "  (0, 54493)\t0.06961997844491917\n",
      "  (0, 23430)\t0.12937103288512333\n",
      "  (0, 77676)\t0.12197186951739486\n",
      "  (0, 81450)\t0.1461308934288897\n",
      "  (0, 24583)\t0.19644480500804062\n",
      "  (0, 16806)\t0.1407774554706102\n",
      "  (0, 83208)\t0.11339406589538423\n",
      "  (0, 76269)\t0.08978258481915573\n",
      "  (0, 34742)\t0.17300821242559045\n",
      "  (0, 24108)\t0.24723134514216435\n",
      "  (0, 25437)\t0.10548299054214269\n",
      "  (0, 11174)\t0.20599311323287353\n",
      "  (0, 35902)\t0.1266709604197344\n",
      "  (0, 9843)\t0.20797700857530224\n",
      "  (0, 55606)\t0.13822596989753821\n",
      "  (0, 57247)\t0.1352084247105906\n",
      "  (0, 84312)\t0.16368392505928514\n",
      "  (0, 34741)\t0.14847880131844235\n",
      "  (0, 31927)\t0.10526008886822914\n",
      "  (0, 80420)\t0.127069039671221\n",
      "  (0, 25717)\t0.46579831435138974\n",
      "  (0, 37256)\t0.20599311323287353\n",
      "  (0, 96879)\t0.13703598126117264\n",
      "(11314, 101322)\n",
      "11314 101322\n"
     ]
    }
   ],
   "source": [
    "print(X_train[0])\n",
    "print(X_train.shape)\n",
    "print(len(newsgroups_train.data), len(vectorizer.vocabulary_))"
   ]
  },
  {
   "cell_type": "markdown",
   "metadata": {
    "id": "FxpGgRYCIiab"
   },
   "source": [
    "Each dimension corresponds to a word in the original text. For example:"
   ]
  },
  {
   "cell_type": "code",
   "execution_count": 19,
   "metadata": {
    "colab": {
     "base_uri": "https://localhost:8080/"
    },
    "id": "ZXlffuWyGcjf",
    "outputId": "891e1dd0-4233-478b-cfaf-04a0bee9856e"
   },
   "outputs": [
    {
     "name": "stdout",
     "output_type": "stream",
     "text": [
      "mail 0.10043853867312116\n",
      "mail_________________________________ 0.0\n",
      "mail_address 0.0\n"
     ]
    }
   ],
   "source": [
    "indice_parola = 59071\n",
    "# sono in ordine alfabetico\n",
    "print(vectorizer.get_feature_names_out()[indice_parola], X_train[0, indice_parola])\n",
    "print(vectorizer.get_feature_names_out()[indice_parola+1], X_train[0, indice_parola+1])\n",
    "print(vectorizer.get_feature_names_out()[indice_parola+2], X_train[0, indice_parola+2])"
   ]
  },
  {
   "attachments": {},
   "cell_type": "markdown",
   "metadata": {
    "id": "BpsrqPAkRrYl"
   },
   "source": [
    "# Term frequency - inverse document frequency fatta a mano\n",
    "\n",
    "$$tf_{i,j} = \\frac{n_{i,j}} {|d_j|}$$\n",
    "$$n_{i,j} = \\text{numero di volte in cui compare la parola nel documento}$$\n",
    "$$|d_j|={\\text{numero di parole del documento}}$$\n",
    "-----\n",
    "$$ idf_w = log_{10} \\frac{|D|}{|\\{d: w \\in d\\}|} $$\n",
    "$$ |D| = \\text{numero dei documenti nel corpus} $$\n",
    "$$ |\\{d: w \\in d\\}| = \\text{numero di documenti in cui la parola w appare} $$\n",
    "$$\\text{tf-idf} = tf_{i,j} \\cdot idf_i$$\n",
    "---"
   ]
  },
  {
   "cell_type": "code",
   "execution_count": 16,
   "metadata": {},
   "outputs": [
    {
     "name": "stdout",
     "output_type": "stream",
     "text": [
      "0 [('Machine', 0.0), ('Giacomo', 0.08804562952784062), ('Ciao', 0.08804562952784062), ('Learning', 0.0)]\n",
      "1 [('Machine', 0.15904041823988746), ('Giacomo', 0.0), ('Ciao', 0.058697086351893746), ('Learning', 0.058697086351893746)]\n",
      "2 [('Machine', 0.0), ('Giacomo', 0.11739417270378749), ('Ciao', 0.0), ('Learning', 0.058697086351893746)]\n"
     ]
    }
   ],
   "source": [
    "import math\n",
    "\n",
    "documento1 = \"Giacomo Ciao\"\n",
    "documento2 = \"Ciao Learning Machine\"\n",
    "documento3 = \"Giacomo Giacomo Learning\"\n",
    "corpus = [documento1, documento2, documento3]\n",
    "\n",
    "\n",
    "def numero_occorrenze_in_doc(parola, documento):\n",
    "    n_ij = 0\n",
    "    for parola_doc in documento.split(\" \"):\n",
    "        if parola_doc == parola:\n",
    "            n_ij += 1\n",
    "    return n_ij\n",
    "\n",
    "def numero_parole_documento(documento):\n",
    "    return len(documento.split(\" \"))\n",
    "\n",
    "def numero_documenti_con_parola(corpus, parola):\n",
    "    Dw = 0\n",
    "    for documento in corpus:\n",
    "        if parola in documento.split(\" \"):\n",
    "            Dw += 1\n",
    "    return Dw\n",
    "def numero_documenti_corpus(corpus):\n",
    "    return len(corpus)\n",
    "\n",
    "def term_frequency(parola, documento):\n",
    "    return numero_occorrenze_in_doc(parola, documento) / numero_parole_documento(documento)\n",
    "\n",
    "def inverse_document_frequency(parola, corpus):\n",
    "    if (numero_documenti_con_parola(corpus, parola) == 0):\n",
    "        return 0\n",
    "    return math.log(numero_documenti_corpus(corpus) / numero_documenti_con_parola(corpus, parola) , 10)\n",
    "\n",
    "def tf_idf(parola, documento, corpus):\n",
    "    return term_frequency(parola, documento) * inverse_document_frequency(parola, corpus)\n",
    "\n",
    "def vocabolario(corpus):\n",
    "    dic = set()\n",
    "    for documento in corpus:\n",
    "        for parola in documento.split(\" \"):\n",
    "            dic.add(parola)\n",
    "    return dic\n",
    "\n",
    "def vettore_tf_idf_documento(documento, corpus):\n",
    "    vett = []\n",
    "    voc = vocabolario(corpus)\n",
    "    for parola in voc:\n",
    "        tf_idf_parola_doc = tf_idf(parola, documento, corpus)\n",
    "        vett.append((parola, tf_idf_parola_doc))\n",
    "    return vett\n",
    "\n",
    "# stampiamo il vettore tf-idf di ogni documento del corpus\n",
    "\n",
    "for i,doc in enumerate(corpus):\n",
    "    print(i, vettore_tf_idf_documento(doc, corpus))\n"
   ]
  },
  {
   "cell_type": "code",
   "execution_count": 30,
   "metadata": {},
   "outputs": [
    {
     "name": "stdout",
     "output_type": "stream",
     "text": [
      "[[0.70710678 0.70710678 0.         0.        ]\n",
      " [0.51785612 0.         0.51785612 0.68091856]\n",
      " [0.         0.89442719 0.4472136  0.        ]]\n",
      "['ciao' 'giacomo' 'learning' 'machine']\n"
     ]
    }
   ],
   "source": [
    "vectorizer2 = TfidfVectorizer(stop_words='english')\n",
    "documento1 = \"Giacomo Ciao\"\n",
    "documento2 = \"Ciao Learning Machine\"\n",
    "documento3 = \"Giacomo Giacomo Learning\"\n",
    "\n",
    "x_train_prova = vectorizer2.fit_transform([documento1, documento2, documento3])\n",
    "print(x_train_prova.asformat(\"array\"))\n",
    "print(vectorizer2.get_feature_names_out())"
   ]
  },
  {
   "attachments": {},
   "cell_type": "markdown",
   "metadata": {},
   "source": [
    "# Naive Bayes\n",
    "Con Naive Bayes assumiamo una indipendenza forte tra le feature del modello. Ogni feature è condizionatamente indipendente dall'altra data una classe.\n",
    "\n",
    "## Multinomial NB\n",
    "Usato per feature discrete, come le parole in un testo.\n",
    "Ogni frase è rappresentata da un vettore, con tanti elementi quanti sono i termini del dizionario, il cui il valore è il numero di occorrenze o il valore **tf-idf**."
   ]
  },
  {
   "cell_type": "code",
   "execution_count": 21,
   "metadata": {
    "colab": {
     "base_uri": "https://localhost:8080/"
    },
    "id": "2qIaP0PWJ605",
    "outputId": "12a3b11a-a1d6-44f4-9cfa-5b062d07ba47"
   },
   "outputs": [
    {
     "name": "stdout",
     "output_type": "stream",
     "text": [
      "                          precision    recall  f1-score   support\n",
      "\n",
      "             alt.atheism       0.44      0.19      0.27        21\n",
      "           comp.graphics       0.58      0.67      0.62        21\n",
      " comp.os.ms-windows.misc       0.65      0.50      0.57        26\n",
      "comp.sys.ibm.pc.hardware       0.70      0.76      0.73        34\n",
      "   comp.sys.mac.hardware       0.81      0.74      0.77        34\n",
      "          comp.windows.x       0.83      0.73      0.78        26\n",
      "            misc.forsale       0.74      0.77      0.76        22\n",
      "               rec.autos       0.79      0.79      0.79        28\n",
      "         rec.motorcycles       0.85      0.70      0.77        33\n",
      "      rec.sport.baseball       1.00      0.88      0.94        25\n",
      "        rec.sport.hockey       0.67      0.96      0.79        27\n",
      "               sci.crypt       0.71      0.85      0.77        20\n",
      "         sci.electronics       0.74      0.58      0.65        24\n",
      "                 sci.med       0.75      0.91      0.82        23\n",
      "               sci.space       0.79      0.82      0.81        28\n",
      "  soc.religion.christian       0.61      0.86      0.71        29\n",
      "      talk.politics.guns       0.59      0.95      0.73        21\n",
      "   talk.politics.mideast       0.82      0.78      0.80        18\n",
      "      talk.politics.misc       0.44      0.31      0.36        26\n",
      "      talk.religion.misc       0.57      0.29      0.38        14\n",
      "\n",
      "                accuracy                           0.71       500\n",
      "               macro avg       0.70      0.70      0.69       500\n",
      "            weighted avg       0.71      0.71      0.70       500\n",
      "\n"
     ]
    }
   ],
   "source": [
    "# define the Multinomial Naive Bayes model\n",
    "MultinomialNB_model = MultinomialNB(alpha=0.01) # problema di classificazione multi-classe. alpha= parametro di smoothing\n",
    "\n",
    "# train\n",
    "MultinomialNB_model.fit(X_train, y_train)\n",
    "\n",
    "# predict\n",
    "y_pred = MultinomialNB_model.predict(X_test[:500])\n",
    "print(classification_report(y_test[:500], y_pred, target_names=classes))"
   ]
  },
  {
   "cell_type": "markdown",
   "metadata": {
    "id": "UoaUL6r3RiwR"
   },
   "source": [
    "We can extract for each class the most important features (words in our case) and print them."
   ]
  },
  {
   "cell_type": "code",
   "execution_count": 22,
   "metadata": {
    "colab": {
     "base_uri": "https://localhost:8080/"
    },
    "id": "VaScTHgENvl_",
    "outputId": "d8c401b5-9977-47c9-91ee-9a8e51b6aa30"
   },
   "outputs": [
    {
     "name": "stdout",
     "output_type": "stream",
     "text": [
      "                   alt.atheism: \tislam atheists say just religion atheism think don people god\n",
      "                 comp.graphics: \tlooking format 3d know program file files thanks image graphics\n",
      "       comp.os.ms-windows.misc: \tcard problem thanks driver drivers use files dos file windows\n",
      "      comp.sys.ibm.pc.hardware: \tmonitor disk thanks pc ide controller bus card scsi drive\n",
      "         comp.sys.mac.hardware: \tknow monitor does quadra simms thanks problem drive apple mac\n",
      "                comp.windows.x: \tusing windows x11r5 use application thanks widget server motif window\n",
      "                  misc.forsale: \tasking email sell price condition new shipping offer 00 sale\n",
      "                     rec.autos: \tdon ford new good dealer just engine like cars car\n",
      "               rec.motorcycles: \tdon just helmet riding like motorcycle ride bikes dod bike\n",
      "            rec.sport.baseball: \tbraves players pitching hit runs games game baseball team year\n",
      "              rec.sport.hockey: \tleague year nhl games season players play hockey team game\n",
      "                     sci.crypt: \tpeople use escrow nsa keys government chip clipper encryption key\n",
      "               sci.electronics: \tdon thanks voltage used know does like circuit power use\n",
      "                       sci.med: \tskepticism cadre dsl banks chastity n3jxp pitt gordon geb msg\n",
      "                     sci.space: \tjust lunar earth shuttle like moon launch orbit nasa space\n",
      "        soc.religion.christian: \tbelieve faith christian christ bible people christians church jesus god\n",
      "            talk.politics.guns: \tjust law firearms government fbi don weapons people guns gun\n",
      "         talk.politics.mideast: \tsaid arabs arab turkish people armenians armenian jews israeli israel\n",
      "            talk.politics.misc: \tknow state clinton president just think tax don government people\n",
      "            talk.religion.misc: \tthink don koresh objective christians bible people christian jesus god\n"
     ]
    }
   ],
   "source": [
    "# show the top 10 features\n",
    "def show_top10(classifier: MultinomialNB, vectorizer: TfidfVectorizer, categories: list[str]):\n",
    "  feature_names = np.asarray(vectorizer.get_feature_names_out()) # prende l'array di tutte le parole\n",
    "  for i, category in enumerate(categories):\n",
    "    top10 = np.argsort(classifier.feature_count_[i])[-10:] # prende l'elemento in posizione i tra i primi 10\n",
    "    print(\"%30s: \\t%s\" % (category, \" \".join(feature_names[top10])))\n",
    "\n",
    "show_top10(MultinomialNB_model, vectorizer, classes)"
   ]
  },
  {
   "cell_type": "markdown",
   "metadata": {
    "id": "RDf7QRM7RtvF"
   },
   "source": [
    "## Multivariate NB"
   ]
  },
  {
   "attachments": {},
   "cell_type": "markdown",
   "metadata": {
    "id": "J5Szbl-KRwQK"
   },
   "source": [
    "We can train a Bernoulli model, that is the Multivariate implementation of the NB.\n",
    "Usato per le feature binarie (conta solo la presenza o l'assenza delle parole).\n",
    "\n",
    "Un documento è rappresentato da un vettore con valori in {0,1} con dimensione pari al numero di parole del dizionario.\n",
    "\n",
    "vocabolario = [Ciao, Giacomo, Machine, Learning]\n",
    "\n",
    "frase = \"Ciao Giacomo\"\n",
    "\n",
    "vettore_frase = [1, 1, 0, 0]\n"
   ]
  },
  {
   "cell_type": "code",
   "execution_count": 23,
   "metadata": {
    "colab": {
     "base_uri": "https://localhost:8080/"
    },
    "id": "Rnh6tpDzOZYi",
    "outputId": "a4732fb3-f655-42b6-a58e-ada76a8b50f4"
   },
   "outputs": [
    {
     "name": "stdout",
     "output_type": "stream",
     "text": [
      "                          precision    recall  f1-score   support\n",
      "\n",
      "             alt.atheism       0.36      0.43      0.39        21\n",
      "           comp.graphics       0.41      0.57      0.48        21\n",
      " comp.os.ms-windows.misc       0.00      0.00      0.00        26\n",
      "comp.sys.ibm.pc.hardware       0.57      0.79      0.67        34\n",
      "   comp.sys.mac.hardware       0.40      0.79      0.53        34\n",
      "          comp.windows.x       0.75      0.46      0.57        26\n",
      "            misc.forsale       0.77      0.77      0.77        22\n",
      "               rec.autos       0.48      0.79      0.59        28\n",
      "         rec.motorcycles       0.50      0.73      0.59        33\n",
      "      rec.sport.baseball       0.79      0.88      0.83        25\n",
      "        rec.sport.hockey       1.00      0.85      0.92        27\n",
      "               sci.crypt       0.83      0.50      0.62        20\n",
      "         sci.electronics       0.52      0.62      0.57        24\n",
      "                 sci.med       0.84      0.70      0.76        23\n",
      "               sci.space       0.88      0.50      0.64        28\n",
      "  soc.religion.christian       0.76      0.55      0.64        29\n",
      "      talk.politics.guns       0.65      0.62      0.63        21\n",
      "   talk.politics.mideast       0.67      0.44      0.53        18\n",
      "      talk.politics.misc       0.60      0.23      0.33        26\n",
      "      talk.religion.misc       0.20      0.14      0.17        14\n",
      "\n",
      "                accuracy                           0.59       500\n",
      "               macro avg       0.60      0.57      0.56       500\n",
      "            weighted avg       0.60      0.59      0.57       500\n",
      "\n"
     ]
    },
    {
     "name": "stderr",
     "output_type": "stream",
     "text": [
      "/home/giaco/PycharmProjects/CodiceML/venv/lib/python3.10/site-packages/sklearn/metrics/_classification.py:1344: UndefinedMetricWarning: Precision and F-score are ill-defined and being set to 0.0 in labels with no predicted samples. Use `zero_division` parameter to control this behavior.\n",
      "  _warn_prf(average, modifier, msg_start, len(result))\n",
      "/home/giaco/PycharmProjects/CodiceML/venv/lib/python3.10/site-packages/sklearn/metrics/_classification.py:1344: UndefinedMetricWarning: Precision and F-score are ill-defined and being set to 0.0 in labels with no predicted samples. Use `zero_division` parameter to control this behavior.\n",
      "  _warn_prf(average, modifier, msg_start, len(result))\n",
      "/home/giaco/PycharmProjects/CodiceML/venv/lib/python3.10/site-packages/sklearn/metrics/_classification.py:1344: UndefinedMetricWarning: Precision and F-score are ill-defined and being set to 0.0 in labels with no predicted samples. Use `zero_division` parameter to control this behavior.\n",
      "  _warn_prf(average, modifier, msg_start, len(result))\n"
     ]
    }
   ],
   "source": [
    "# define the Multivariate Naive Bayes model\n",
    "BernoulliNB_model = BernoulliNB(alpha=.01)\n",
    "\n",
    "# train\n",
    "BernoulliNB_model.fit(X_train, y_train)\n",
    "\n",
    "# predict\n",
    "y_pred = BernoulliNB_model.predict(X_test[:500])\n",
    "print(classification_report(y_test[:500], y_pred, target_names=classes))"
   ]
  },
  {
   "cell_type": "markdown",
   "metadata": {
    "id": "Fj69fMPGe92o"
   },
   "source": [
    "And then see the most important features for each class."
   ]
  },
  {
   "cell_type": "code",
   "execution_count": 24,
   "metadata": {
    "colab": {
     "base_uri": "https://localhost:8080/"
    },
    "id": "pY_XS69jR-Fa",
    "outputId": "5f046b35-8730-4411-d4f1-f21d8fabfaa5"
   },
   "outputs": [
    {
     "name": "stdout",
     "output_type": "stream",
     "text": [
      "                   alt.atheism: \ttime know does god like say just think people don\n",
      "                 comp.graphics: \tjust don program need does use like know graphics thanks\n",
      "       comp.os.ms-windows.misc: \tdoes dos like just file using thanks know use windows\n",
      "      comp.sys.ibm.pc.hardware: \tpc problem use drive just like card does know thanks\n",
      "         comp.sys.mac.hardware: \tproblem don use like just thanks does apple know mac\n",
      "                comp.windows.x: \thelp server problem know does using like thanks use window\n",
      "                  misc.forsale: \tmail used edu sell condition interested shipping offer new sale\n",
      "                     rec.autos: \ttime new think know good cars don just like car\n",
      "               rec.motorcycles: \ttime ride dod good think don know just like bike\n",
      "            rec.sport.baseball: \tgames time team good game don like just think year\n",
      "              rec.sport.hockey: \tyear good don think just like play hockey game team\n",
      "                     sci.crypt: \tchip clipper government don encryption people use like just key\n",
      "               sci.electronics: \tpower want good just does used don know like use\n",
      "                       sci.med: \tdoes good think time edu just people like know don\n",
      "                     sci.space: \tearth use time nasa think know don just like space\n",
      "        soc.religion.christian: \tjesus does say like don just think know people god\n",
      "            talk.politics.guns: \tmake right guns know think like just don gun people\n",
      "         talk.politics.mideast: \tjews think know time don israeli israel just like people\n",
      "            talk.politics.misc: \ttime did government make know think like just don people\n",
      "            talk.religion.misc: \tsay way like does know think god don just people\n"
     ]
    }
   ],
   "source": [
    "show_top10(BernoulliNB_model, vectorizer, classes)"
   ]
  },
  {
   "cell_type": "markdown",
   "metadata": {},
   "source": [
    "# EXERCISE:\n",
    "* (1) Find the best _alpha_ parameter for **MultinomialNB** and **BernoulliNB** models.\n",
    "* (2) Plot the results taking _F1_ measure as reference.\n",
    "* (3) Make a comparison between **Rocchio**, **MultinomialNB** and **BernoulliNB** model.\n"
   ]
  },
  {
   "attachments": {},
   "cell_type": "markdown",
   "metadata": {
    "id": "2yHVrculSD9M"
   },
   "source": [
    "### Esercizio 1 - Miglior smoothing"
   ]
  },
  {
   "cell_type": "code",
   "execution_count": 62,
   "metadata": {},
   "outputs": [],
   "source": [
    "from typing import List, Tuple\n",
    "from matplotlib import pyplot as plt\n",
    "import pandas as pd\n",
    "from sklearn.metrics import get_scorer_names, make_scorer\n",
    "from sklearn.model_selection import cross_val_score\n",
    "\n",
    "def find_best_alpha(model, start_alpha, stop_alpha, increment) -> Tuple[List[float], List[float], float, float]:\n",
    "    alpha = best_alpha = start_alpha\n",
    "    best_f1 = 0.00\n",
    "    alphas = []\n",
    "    f1s = []\n",
    "    while alpha < stop_alpha:\n",
    "        f1 = cross_val_score(estimator=model(alpha), X=X_train, y=y_train, cv=10, scoring='f1_micro')\n",
    "        # the_model = model(alpha=alpha)\n",
    "        # f1 macro = media aritmetica di tutti gli f1 (20)\n",
    "        # f1 pesata = in base al peso di ogni classe\n",
    "        # f1 micro = data dalla somma dei TP + FP + FN + TN\n",
    "        f1_mean = f1.mean()\n",
    "        alphas.append(alpha)\n",
    "        f1s.append(f1_mean)\n",
    "        if f1_mean > best_f1:\n",
    "            best_f1 = f1_mean\n",
    "            best_alpha = alpha\n",
    "\n",
    "        \n",
    "        alpha += increment\n",
    "\n",
    "    print(\"best alpha\", best_alpha,\"best f1\", best_f1)\n",
    "    return alphas, f1s, best_alpha, best_f1\n"
   ]
  },
  {
   "cell_type": "code",
   "execution_count": 58,
   "metadata": {},
   "outputs": [
    {
     "name": "stdout",
     "output_type": "stream",
     "text": [
      "['accuracy', 'adjusted_mutual_info_score', 'adjusted_rand_score', 'average_precision', 'balanced_accuracy', 'completeness_score', 'explained_variance', 'f1', 'f1_macro', 'f1_micro', 'f1_samples', 'f1_weighted', 'fowlkes_mallows_score', 'homogeneity_score', 'jaccard', 'jaccard_macro', 'jaccard_micro', 'jaccard_samples', 'jaccard_weighted', 'matthews_corrcoef', 'max_error', 'mutual_info_score', 'neg_brier_score', 'neg_log_loss', 'neg_mean_absolute_error', 'neg_mean_absolute_percentage_error', 'neg_mean_gamma_deviance', 'neg_mean_poisson_deviance', 'neg_mean_squared_error', 'neg_mean_squared_log_error', 'neg_median_absolute_error', 'neg_negative_likelihood_ratio', 'neg_root_mean_squared_error', 'normalized_mutual_info_score', 'positive_likelihood_ratio', 'precision', 'precision_macro', 'precision_micro', 'precision_samples', 'precision_weighted', 'r2', 'rand_score', 'recall', 'recall_macro', 'recall_micro', 'recall_samples', 'recall_weighted', 'roc_auc', 'roc_auc_ovo', 'roc_auc_ovo_weighted', 'roc_auc_ovr', 'roc_auc_ovr_weighted', 'top_k_accuracy', 'v_measure_score']\n",
      "best alpha 0.01800000000000001 best f1 0.7752379144757603\n"
     ]
    }
   ],
   "source": [
    "alphasMNB, f1sMNB, bestAlphaMNB, bestF1MNB = find_best_alpha(lambda a: MultinomialNB(alpha=a), 0.001, 0.06, 0.001)"
   ]
  },
  {
   "cell_type": "code",
   "execution_count": 63,
   "metadata": {},
   "outputs": [
    {
     "name": "stdout",
     "output_type": "stream",
     "text": [
      "best alpha 7e-07 best f1 0.6600709838068191\n"
     ]
    }
   ],
   "source": [
    "alphasBNB, f1sBNB, bestAlphaBNB, bestF1BNB = find_best_alpha(lambda a: BernoulliNB(alpha=a), 3e-07, 3e-06, 2e-07)"
   ]
  },
  {
   "cell_type": "code",
   "execution_count": 64,
   "metadata": {},
   "outputs": [
    {
     "data": {
      "image/png": "[encoded data removed]",
      "text/plain": [
       "<Figure size 640x480 with 2 Axes>"
      ]
     },
     "metadata": {},
     "output_type": "display_data"
    }
   ],
   "source": [
    "# plotting f1 vs alpha \n",
    "\n",
    "fig, (ax1, ax2) = plt.subplots(2, 1)\n",
    "ax1.plot(alphasMNB, f1sMNB)\n",
    "ax1.set_title(\"MultinomialNB\")\n",
    "ax1.set_xlabel(\"alpha\")\n",
    "ax2.set_ylabel(\"f1\")\n",
    "ax2.plot(alphasBNB, f1sBNB)\n",
    "ax2.set_title(\"BernoulliNB\")\n",
    "fig.tight_layout()"
   ]
  }
 ],
 "metadata": {
  "colab": {
   "provenance": [],
   "toc_visible": true
  },
  "kernelspec": {
   "display_name": "Python 3 (ipykernel)",
   "language": "python",
   "name": "python3"
  },
  "language_info": {
   "codemirror_mode": {
    "name": "ipython",
    "version": 3
   },
   "file_extension": ".py",
   "mimetype": "text/x-python",
   "name": "python",
   "nbconvert_exporter": "python",
   "pygments_lexer": "ipython3",
   "version": "3.10.6"
  }
 },
 "nbformat": 4,
 "nbformat_minor": 1
}
