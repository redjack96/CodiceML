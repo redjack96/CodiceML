{
 "cells": [
  {
   "cell_type": "markdown",
   "metadata": {
    "id": "yXol5eu5-x5u"
   },
   "source": [
    "# Required Libraries"
   ]
  },
  {
   "cell_type": "code",
   "execution_count": 2,
   "metadata": {
    "id": "mYIQcuxb35nP"
   },
   "outputs": [],
   "source": [
    "from sklearn.datasets import fetch_20newsgroups\n",
    "from sklearn.feature_extraction.text import TfidfVectorizer\n",
    "from sklearn.metrics import accuracy_score, classification_report, confusion_matrix\n",
    "from sklearn.metrics.pairwise import cosine_similarity\n",
    "\n",
    "from pprint import pprint\n",
    "import numpy as np"
   ]
  },
  {
   "cell_type": "markdown",
   "metadata": {
    "id": "9_cPhrPV-06-"
   },
   "source": [
    "# Dataset\n",
    "Load the dataset and print the classes"
   ]
  },
  {
   "cell_type": "code",
   "execution_count": 5,
   "metadata": {
    "colab": {
     "base_uri": "https://localhost:8080/"
    },
    "id": "wOgsW_Q06IqN",
    "outputId": "688cf7ec-89d1-4f73-d07b-a6d55f5e77ee"
   },
   "outputs": [
    {
     "name": "stdout",
     "output_type": "stream",
     "text": [
      "['alt.atheism',\n",
      " 'comp.graphics',\n",
      " 'comp.os.ms-windows.misc',\n",
      " 'comp.sys.ibm.pc.hardware',\n",
      " 'comp.sys.mac.hardware',\n",
      " 'comp.windows.x',\n",
      " 'misc.forsale',\n",
      " 'rec.autos',\n",
      " 'rec.motorcycles',\n",
      " 'rec.sport.baseball',\n",
      " 'rec.sport.hockey',\n",
      " 'sci.crypt',\n",
      " 'sci.electronics',\n",
      " 'sci.med',\n",
      " 'sci.space',\n",
      " 'soc.religion.christian',\n",
      " 'talk.politics.guns',\n",
      " 'talk.politics.mideast',\n",
      " 'talk.politics.misc',\n",
      " 'talk.religion.misc']\n"
     ]
    }
   ],
   "source": [
    "# Load the Reuters dataset\n",
    "newsgroups_train = fetch_20newsgroups(subset='train', shuffle=True, random_state=42, remove=('headers', 'footers', 'quotes'))\n",
    "newsgroups_test = fetch_20newsgroups(subset='test', shuffle=True, random_state=42, remove=('headers', 'footers', 'quotes'))\n",
    "\n",
    "classes = list(newsgroups_train.target_names)\n",
    "pprint(classes)"
   ]
  },
  {
   "cell_type": "markdown",
   "metadata": {
    "id": "CsSHpQcg-6Uf"
   },
   "source": [
    "Let's see the first example. It's a letter form."
   ]
  },
  {
   "cell_type": "code",
   "execution_count": 6,
   "metadata": {
    "colab": {
     "base_uri": "https://localhost:8080/"
    },
    "id": "fYUV9trA7JWW",
    "outputId": "1b8773f1-2128-4213-d502-cdfc92a21579"
   },
   "outputs": [
    {
     "name": "stdout",
     "output_type": "stream",
     "text": [
      "SHAPE  (11314,)\n",
      "----------------------------------------\n",
      "I was wondering if anyone out there could enlighten me on this car I saw\n",
      "the other day. It was a 2-door sports car, looked to be from the late 60s/\n",
      "early 70s. It was called a Bricklin. The doors were really small. In addition,\n",
      "the front bumper was separate from the rest of the body. This is \n",
      "all I know. If anyone can tellme a model name, engine specs, years\n",
      "of production, where this car is made, history, or whatever info you\n",
      "have on this funky looking car, please e-mail.\n",
      "----------------------------------------\n",
      "7 => rec.autos\n"
     ]
    }
   ],
   "source": [
    "print(\"SHAPE \", newsgroups_train.filenames.shape)\n",
    "print(\"----------------------------------------\")\n",
    "print(newsgroups_train.data[0])\n",
    "print(\"----------------------------------------\")\n",
    "print(newsgroups_train.target[0], \"=>\", classes[newsgroups_train.target[0]])"
   ]
  },
  {
   "cell_type": "markdown",
   "metadata": {
    "id": "7C0DhN_m-_jD"
   },
   "source": [
    "# Preprocessing"
   ]
  },
  {
   "cell_type": "markdown",
   "metadata": {
    "id": "IKZaxmMn_Bqp"
   },
   "source": [
    "Preprocess every example: remove stopwords and compute the Tf-idf vector representation."
   ]
  },
  {
   "cell_type": "code",
   "execution_count": 7,
   "metadata": {
    "id": "GH72VuMK6KI9"
   },
   "outputs": [],
   "source": [
    "# Extract features from the dataset\n",
    "vectorizer = TfidfVectorizer(stop_words='english')\n",
    "X_train = vectorizer.fit_transform(newsgroups_train.data)\n",
    "X_test = vectorizer.transform(newsgroups_test.data)\n",
    "y_train = newsgroups_train.target\n",
    "y_test = newsgroups_test.target"
   ]
  },
  {
   "cell_type": "markdown",
   "metadata": {
    "id": "U-xYnpvWFqDL"
   },
   "source": [
    "Let's see what's inside after the transformation"
   ]
  },
  {
   "cell_type": "code",
   "execution_count": 8,
   "metadata": {
    "colab": {
     "base_uri": "https://localhost:8080/"
    },
    "id": "NIO985nxCpBd",
    "outputId": "68b0386a-b55c-466d-cad4-20adaee90e85"
   },
   "outputs": [
    {
     "name": "stdout",
     "output_type": "stream",
     "text": [
      "  (0, 59071)\t0.10043853867312116\n",
      "  (0, 57250)\t0.1063473585616558\n",
      "  (0, 41874)\t0.224548896412017\n",
      "  (0, 49800)\t0.11869932893481257\n",
      "  (0, 46690)\t0.12504220873599214\n",
      "  (0, 73174)\t0.16142029533900565\n",
      "  (0, 99608)\t0.09418459052541318\n",
      "  (0, 84050)\t0.16329311028814825\n",
      "  (0, 37208)\t0.1434127293323407\n",
      "  (0, 62594)\t0.13037295035007848\n",
      "  (0, 87913)\t0.25808578247347563\n",
      "  (0, 54493)\t0.06961997844491917\n",
      "  (0, 23430)\t0.12937103288512333\n",
      "  (0, 77676)\t0.12197186951739486\n",
      "  (0, 81450)\t0.1461308934288897\n",
      "  (0, 24583)\t0.19644480500804062\n",
      "  (0, 16806)\t0.1407774554706102\n",
      "  (0, 83208)\t0.11339406589538423\n",
      "  (0, 76269)\t0.08978258481915573\n",
      "  (0, 34742)\t0.17300821242559045\n",
      "  (0, 24108)\t0.24723134514216435\n",
      "  (0, 25437)\t0.10548299054214269\n",
      "  (0, 11174)\t0.20599311323287353\n",
      "  (0, 35902)\t0.1266709604197344\n",
      "  (0, 9843)\t0.20797700857530224\n",
      "  (0, 55606)\t0.13822596989753821\n",
      "  (0, 57247)\t0.1352084247105906\n",
      "  (0, 84312)\t0.16368392505928514\n",
      "  (0, 34741)\t0.14847880131844235\n",
      "  (0, 31927)\t0.10526008886822914\n",
      "  (0, 80420)\t0.127069039671221\n",
      "  (0, 25717)\t0.46579831435138974\n",
      "  (0, 37256)\t0.20599311323287353\n",
      "  (0, 96879)\t0.13703598126117264\n",
      "(11314, 101322)\n",
      "11314 101322\n"
     ]
    }
   ],
   "source": [
    "print(X_train[0])\n",
    "print(X_train.shape)\n",
    "print(len(newsgroups_train.data), len(vectorizer.vocabulary_))"
   ]
  },
  {
   "cell_type": "markdown",
   "metadata": {
    "id": "FxpGgRYCIiab"
   },
   "source": [
    "Each dimension corresponds to a word in the original text. For example:"
   ]
  },
  {
   "cell_type": "code",
   "execution_count": 9,
   "metadata": {
    "colab": {
     "base_uri": "https://localhost:8080/"
    },
    "id": "ZXlffuWyGcjf",
    "outputId": "891e1dd0-4233-478b-cfaf-04a0bee9856e"
   },
   "outputs": [
    {
     "name": "stdout",
     "output_type": "stream",
     "text": [
      "car 0.46579831435138974\n",
      "saw 0.127069039671221\n"
     ]
    }
   ],
   "source": [
    "print(vectorizer.get_feature_names_out()[25717], X_train[0, 25717])\n",
    "print(vectorizer.get_feature_names_out()[80420], X_train[0, 80420])"
   ]
  },
  {
   "cell_type": "code",
   "execution_count": null,
   "metadata": {},
   "outputs": [],
   "source": []
  },
  {
   "cell_type": "markdown",
   "metadata": {
    "id": "sQRxH-MG_Ki2"
   },
   "source": [
    "# Rocchio Model"
   ]
  },
  {
   "cell_type": "markdown",
   "metadata": {
    "id": "oxRXoRTx_MTW"
   },
   "source": [
    "Definition of the model computation formula. Definition of the test method.\n",
    "\n",
    "beta e gamma =1 significa che hanno le stesse righe."
   ]
  },
  {
   "cell_type": "code",
   "execution_count": 10,
   "metadata": {
    "id": "jFTcu1N3QOG7"
   },
   "outputs": [],
   "source": [
    "# Define the Rocchio Algorithm function\n",
    "def rocchio_model(X_train, y_train, beta=1, gamma=1):\n",
    "\n",
    "  # Calculate the centroid for each class\n",
    "  centroids = np.zeros((len(np.unique(y_train)), X_train.shape[1]))\n",
    "  for i, label in enumerate(np.unique(y_train)):\n",
    "    centroids[i] = X_train[y_train == label].mean(axis=0)\n",
    "\n",
    "  # Calculate the prototype for each class\n",
    "  prototypes = np.zeros((len(np.unique(y_train)), X_train.shape[1]))\n",
    "  for i, label in enumerate(np.unique(y_train)):\n",
    "    prototypes[i] = beta * (X_train[y_train == label].sum(axis=0) - centroids[i]) / X_train[y_train == label].getnnz() \\\n",
    "                    - gamma * X_train[y_train != label].sum(axis=0) / X_train[y_train != label].getnnz()\n",
    "\n",
    "  return prototypes\n",
    "\n",
    "def test(rocchio_model, X_test):\n",
    "  # Make predictions on the test set\n",
    "  y_pred = []\n",
    "  for doc in X_test:\n",
    "    similarities = np.zeros(len(rocchio_model))\n",
    "    for i, prototype in enumerate(rocchio_model):\n",
    "      similarities[i] = cosine_similarity(doc.toarray().flatten().reshape(1, -1), prototype.flatten().reshape(1, -1))\n",
    "\n",
    "    # store only the value of the class maximized by the similarity\n",
    "    y_pred.append(np.argmax(similarities))\n",
    "\n",
    "  return y_pred"
   ]
  },
  {
   "cell_type": "markdown",
   "metadata": {
    "id": "85gXsYH5-RQI"
   },
   "source": [
    "## Test the model"
   ]
  },
  {
   "cell_type": "markdown",
   "metadata": {
    "id": "HB8wbASq-TYe"
   },
   "source": [
    "Test the model with default parameters. Notice that for sake of brevity, the test set is limited to the first 500 (`X_test[:500]`) instances. You will need to evaluate the models on the entire test set."
   ]
  },
  {
   "cell_type": "code",
   "execution_count": 11,
   "metadata": {
    "colab": {
     "base_uri": "https://localhost:8080/"
    },
    "id": "i5fp8w-IW5Rt",
    "outputId": "a8835cf7-9fc9-4513-e955-53abe8e9280b"
   },
   "outputs": [
    {
     "name": "stdout",
     "output_type": "stream",
     "text": [
      "(20, 101322)\n",
      "                          precision    recall  f1-score   support\n",
      "\n",
      "             alt.atheism       0.22      0.48      0.30        21\n",
      "           comp.graphics       0.44      0.76      0.56        21\n",
      " comp.os.ms-windows.misc       0.60      0.35      0.44        26\n",
      "comp.sys.ibm.pc.hardware       0.46      0.56      0.51        34\n",
      "   comp.sys.mac.hardware       0.68      0.74      0.70        34\n",
      "          comp.windows.x       0.79      0.73      0.76        26\n",
      "            misc.forsale       0.72      0.59      0.65        22\n",
      "               rec.autos       0.72      0.82      0.77        28\n",
      "         rec.motorcycles       0.76      0.76      0.76        33\n",
      "      rec.sport.baseball       0.82      0.92      0.87        25\n",
      "        rec.sport.hockey       0.96      0.85      0.90        27\n",
      "               sci.crypt       0.79      0.55      0.65        20\n",
      "         sci.electronics       0.44      0.67      0.53        24\n",
      "                 sci.med       0.79      0.48      0.59        23\n",
      "               sci.space       0.89      0.57      0.70        28\n",
      "  soc.religion.christian       0.81      0.72      0.76        29\n",
      "      talk.politics.guns       0.67      0.76      0.71        21\n",
      "   talk.politics.mideast       1.00      0.56      0.71        18\n",
      "      talk.politics.misc       0.59      0.38      0.47        26\n",
      "      talk.religion.misc       0.38      0.21      0.27        14\n",
      "\n",
      "                accuracy                           0.64       500\n",
      "               macro avg       0.68      0.62      0.63       500\n",
      "            weighted avg       0.68      0.64      0.64       500\n",
      "\n"
     ]
    }
   ],
   "source": [
    "# get the model\n",
    "rocchio_prototypes = rocchio_model(X_train, y_train)\n",
    "print(rocchio_prototypes.shape)\n",
    "\n",
    "# Make predictions on the test set\n",
    "y_pred = test(rocchio_prototypes, X_test[:500])\n",
    "\n",
    "# Print the classification report and confusion matrix\n",
    "print(classification_report(y_test[:500], y_pred, target_names=newsgroups_test.target_names))"
   ]
  },
  {
   "cell_type": "markdown",
   "metadata": {
    "id": "1ckRfe1B-YW3"
   },
   "source": [
    "Test the model with `beta=1, gamma=10`. The negative examples are more important."
   ]
  },
  {
   "cell_type": "code",
   "execution_count": 12,
   "metadata": {
    "colab": {
     "base_uri": "https://localhost:8080/"
    },
    "id": "pwpTvUc1-G9w",
    "outputId": "5ac5609c-cc50-4d82-bec5-c848c48047e6"
   },
   "outputs": [
    {
     "name": "stdout",
     "output_type": "stream",
     "text": [
      "                          precision    recall  f1-score   support\n",
      "\n",
      "             alt.atheism       0.17      0.29      0.21        21\n",
      "           comp.graphics       0.57      0.76      0.65        21\n",
      " comp.os.ms-windows.misc       0.67      0.46      0.55        26\n",
      "comp.sys.ibm.pc.hardware       0.49      0.62      0.55        34\n",
      "   comp.sys.mac.hardware       0.60      0.74      0.66        34\n",
      "          comp.windows.x       0.79      0.73      0.76        26\n",
      "            misc.forsale       0.56      0.64      0.60        22\n",
      "               rec.autos       0.73      0.79      0.76        28\n",
      "         rec.motorcycles       0.76      0.79      0.78        33\n",
      "      rec.sport.baseball       0.81      0.88      0.85        25\n",
      "        rec.sport.hockey       0.86      0.93      0.89        27\n",
      "               sci.crypt       0.76      0.65      0.70        20\n",
      "         sci.electronics       0.71      0.42      0.53        24\n",
      "                 sci.med       0.80      0.70      0.74        23\n",
      "               sci.space       0.78      0.64      0.71        28\n",
      "  soc.religion.christian       0.67      0.76      0.71        29\n",
      "      talk.politics.guns       0.64      0.86      0.73        21\n",
      "   talk.politics.mideast       1.00      0.61      0.76        18\n",
      "      talk.politics.misc       0.62      0.31      0.41        26\n",
      "      talk.religion.misc       0.20      0.07      0.11        14\n",
      "\n",
      "                accuracy                           0.65       500\n",
      "               macro avg       0.66      0.63      0.63       500\n",
      "            weighted avg       0.67      0.65      0.65       500\n",
      "\n"
     ]
    }
   ],
   "source": [
    "# get the model\n",
    "prototypes = rocchio_model(X_train, y_train, beta=1, gamma=10)\n",
    "\n",
    "# Make predictions on the test set\n",
    "y_pred = test(prototypes, X_test[:500])\n",
    "\n",
    "# Print the classification report and confusion matrix\n",
    "print(classification_report(y_test[:500], y_pred, target_names=newsgroups_test.target_names))"
   ]
  },
  {
   "cell_type": "markdown",
   "metadata": {
    "id": "hMkMnaQb-db0"
   },
   "source": [
    "Test the model with `beta=10, gamma=1`. Positive examples are more important here."
   ]
  },
  {
   "cell_type": "code",
   "execution_count": null,
   "metadata": {
    "colab": {
     "base_uri": "https://localhost:8080/"
    },
    "id": "F5qt2CZt-M6H",
    "outputId": "7162c1f4-557f-43eb-a297-a9a3372b10cc"
   },
   "outputs": [],
   "source": [
    "# get the model\n",
    "prototypes = rocchio_model(X_train, y_train, beta=10, gamma=1)\n",
    "\n",
    "# Make predictions on the test set\n",
    "y_pred = test(prototypes, X_test[:500])\n",
    "\n",
    "# Print the classification report and confusion matrix\n",
    "print(classification_report(y_test[:500], y_pred, target_names=newsgroups_test.target_names))"
   ]
  },
  {
   "cell_type": "markdown",
   "metadata": {
    "id": "oqE9c4QNA5FN"
   },
   "source": [
    "## EXERCISE: Find the best parameters"
   ]
  },
  {
   "cell_type": "markdown",
   "metadata": {
    "id": "uV-hOhrDA7cI"
   },
   "source": [
    "Now it's your turn. Find the best parameters `beta` and `gamma` in order to maximize somehow the overall F1-measure.  \n",
    "\n",
    "**Hint**: use a *grid search* by defining 2 `for` loops and save the values of the params; then plot the result in a graphic, discuss it brefly and write some conclusions.\n",
    "\n",
    "1. Run the Rocchio model over a set of different parameter pair (beta, gamma)\n",
    "2. Plot as shown in the previous practice lesso the F1 measure achieved with the diffferent settings (useplt or seaborn)\n",
    "3. Try to modify the code (Rocchio model) to select class specific pairs (beta_i, gamma_i) for each individual i-th class"
   ]
  },
  {
   "cell_type": "code",
   "execution_count": null,
   "metadata": {
    "id": "_sdlL58IAERj"
   },
   "outputs": [],
   "source": [
    "# fill the lists with plausible values\n",
    "betas_list = [0.1, 5]\n",
    "gammas_list = [0.1, 5]\n",
    "\n",
    "# define a variable to store the evaluations, like a list of lists or a map\n",
    "f1s = []\n",
    "for beta in betas_list:\n",
    "    for gamma in gammas_list:\n",
    "        rocchio_prototypes = rocchio_model(X_train, y_train, beta=beta, gamma=gamma)\n",
    "        # predict on all the test set\n",
    "        y_pred = test(prototypes, X_test)\n",
    "        # compute here the f1 measure, then store it into the f1s list\n",
    "        # WARNING: you need a way to remember which were the values of beta and gamma\n",
    "        # and the F1 in order to make the plot \n",
    "        # Print the classification report and confusion matrix\n",
    "        print(classification_report(y_test[:500], y_pred, target_names=newsgroups_test.target_names\n",
    "    "
   ]
  },
  {
   "cell_type": "code",
   "execution_count": 12,
   "metadata": {
    "id": "B3BwSc_N_I6n"
   },
   "outputs": [],
   "source": [
    "# here make a plot as shown in the previous practice lesson with plt or seaborn."
   ]
  }
 ],
 "metadata": {
  "colab": {
   "provenance": [],
   "toc_visible": true
  },
  "kernelspec": {
   "display_name": "Python 3 (ipykernel)",
   "language": "python",
   "name": "python3"
  },
  "language_info": {
   "codemirror_mode": {
    "name": "ipython",
    "version": 3
   },
   "file_extension": ".py",
   "mimetype": "text/x-python",
   "name": "python",
   "nbconvert_exporter": "python",
   "pygments_lexer": "ipython3",
   "version": "3.9.13"
  }
 },
 "nbformat": 4,
 "nbformat_minor": 1
}
