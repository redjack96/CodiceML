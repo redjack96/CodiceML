{
 "cells": [
  {
   "cell_type": "markdown",
   "metadata": {
    "id": "yXol5eu5-x5u"
   },
   "source": [
    "# Required Libraries"
   ]
  },
  {
   "cell_type": "code",
   "execution_count": 7,
   "metadata": {
    "id": "mYIQcuxb35nP"
   },
   "outputs": [],
   "source": [
    "from sklearn.datasets import fetch_20newsgroups\n",
    "from sklearn.feature_extraction.text import TfidfVectorizer\n",
    "from sklearn.metrics import accuracy_score, classification_report, confusion_matrix\n",
    "from sklearn.metrics.pairwise import cosine_similarity\n",
    "\n",
    "from pprint import pprint\n",
    "import numpy as np"
   ]
  },
  {
   "cell_type": "markdown",
   "metadata": {
    "id": "9_cPhrPV-06-"
   },
   "source": [
    "# Dataset\n",
    "Load the dataset and print the classes"
   ]
  },
  {
   "cell_type": "code",
   "execution_count": 8,
   "metadata": {
    "colab": {
     "base_uri": "https://localhost:8080/"
    },
    "id": "wOgsW_Q06IqN",
    "outputId": "688cf7ec-89d1-4f73-d07b-a6d55f5e77ee"
   },
   "outputs": [
    {
     "name": "stdout",
     "output_type": "stream",
     "text": [
      "['alt.atheism',\n",
      " 'comp.graphics',\n",
      " 'comp.os.ms-windows.misc',\n",
      " 'comp.sys.ibm.pc.hardware',\n",
      " 'comp.sys.mac.hardware',\n",
      " 'comp.windows.x',\n",
      " 'misc.forsale',\n",
      " 'rec.autos',\n",
      " 'rec.motorcycles',\n",
      " 'rec.sport.baseball',\n",
      " 'rec.sport.hockey',\n",
      " 'sci.crypt',\n",
      " 'sci.electronics',\n",
      " 'sci.med',\n",
      " 'sci.space',\n",
      " 'soc.religion.christian',\n",
      " 'talk.politics.guns',\n",
      " 'talk.politics.mideast',\n",
      " 'talk.politics.misc',\n",
      " 'talk.religion.misc']\n"
     ]
    }
   ],
   "source": [
    "# Load the Reuters dataset\n",
    "newsgroups_train = fetch_20newsgroups(subset='train', shuffle=True, random_state=42, remove=('headers', 'footers', 'quotes'))\n",
    "newsgroups_test = fetch_20newsgroups(subset='test', shuffle=True, random_state=42, remove=('headers', 'footers', 'quotes'))\n",
    "\n",
    "classes = list(newsgroups_train.target_names)\n",
    "pprint(classes) # 20 classi"
   ]
  },
  {
   "cell_type": "markdown",
   "metadata": {
    "id": "CsSHpQcg-6Uf"
   },
   "source": [
    "Let's see the first example. It's a letter form."
   ]
  },
  {
   "cell_type": "code",
   "execution_count": 9,
   "metadata": {
    "colab": {
     "base_uri": "https://localhost:8080/"
    },
    "id": "fYUV9trA7JWW",
    "outputId": "1b8773f1-2128-4213-d502-cdfc92a21579"
   },
   "outputs": [
    {
     "name": "stdout",
     "output_type": "stream",
     "text": [
      "SHAPE  (11314,)\n",
      "----------------------------------------\n",
      "I was wondering if anyone out there could enlighten me on this car I saw\n",
      "the other day. It was a 2-door sports car, looked to be from the late 60s/\n",
      "early 70s. It was called a Bricklin. The doors were really small. In addition,\n",
      "the front bumper was separate from the rest of the body. This is \n",
      "all I know. If anyone can tellme a model name, engine specs, years\n",
      "of production, where this car is made, history, or whatever info you\n",
      "have on this funky looking car, please e-mail.\n",
      "----------------------------------------\n",
      "7 => rec.autos\n"
     ]
    }
   ],
   "source": [
    "print(\"SHAPE \", newsgroups_train.filenames.shape)\n",
    "print(\"----------------------------------------\")\n",
    "print(newsgroups_train.data[0])\n",
    "print(\"----------------------------------------\")\n",
    "print(newsgroups_train.target[0], \"=>\", classes[newsgroups_train.target[0]])"
   ]
  },
  {
   "cell_type": "markdown",
   "metadata": {
    "id": "7C0DhN_m-_jD"
   },
   "source": [
    "# Preprocessing"
   ]
  },
  {
   "cell_type": "markdown",
   "metadata": {
    "id": "IKZaxmMn_Bqp"
   },
   "source": [
    "Preprocess every example: remove stopwords and compute the Tf-idf vector representation."
   ]
  },
  {
   "cell_type": "code",
   "execution_count": 10,
   "metadata": {
    "id": "GH72VuMK6KI9"
   },
   "outputs": [],
   "source": [
    "# Extract features from the dataset\n",
    "vectorizer = TfidfVectorizer(stop_words='english')\n",
    "X_train = vectorizer.fit_transform(newsgroups_train.data)\n",
    "X_test = vectorizer.transform(newsgroups_test.data)\n",
    "y_train = newsgroups_train.target\n",
    "y_test = newsgroups_test.target"
   ]
  },
  {
   "cell_type": "markdown",
   "metadata": {
    "id": "U-xYnpvWFqDL"
   },
   "source": [
    "Let's see what's inside after the transformation"
   ]
  },
  {
   "cell_type": "code",
   "execution_count": 11,
   "metadata": {
    "colab": {
     "base_uri": "https://localhost:8080/"
    },
    "id": "NIO985nxCpBd",
    "outputId": "68b0386a-b55c-466d-cad4-20adaee90e85"
   },
   "outputs": [
    {
     "name": "stdout",
     "output_type": "stream",
     "text": [
      "  (0, 59071)\t0.10043853867312116\n",
      "  (0, 57250)\t0.1063473585616558\n",
      "  (0, 41874)\t0.224548896412017\n",
      "  (0, 49800)\t0.11869932893481257\n",
      "  (0, 46690)\t0.12504220873599214\n",
      "  (0, 73174)\t0.16142029533900565\n",
      "  (0, 99608)\t0.09418459052541318\n",
      "  (0, 84050)\t0.16329311028814825\n",
      "  (0, 37208)\t0.1434127293323407\n",
      "  (0, 62594)\t0.13037295035007848\n",
      "  (0, 87913)\t0.25808578247347563\n",
      "  (0, 54493)\t0.06961997844491917\n",
      "  (0, 23430)\t0.12937103288512333\n",
      "  (0, 77676)\t0.12197186951739486\n",
      "  (0, 81450)\t0.1461308934288897\n",
      "  (0, 24583)\t0.19644480500804062\n",
      "  (0, 16806)\t0.1407774554706102\n",
      "  (0, 83208)\t0.11339406589538423\n",
      "  (0, 76269)\t0.08978258481915573\n",
      "  (0, 34742)\t0.17300821242559045\n",
      "  (0, 24108)\t0.24723134514216435\n",
      "  (0, 25437)\t0.10548299054214269\n",
      "  (0, 11174)\t0.20599311323287353\n",
      "  (0, 35902)\t0.1266709604197344\n",
      "  (0, 9843)\t0.20797700857530224\n",
      "  (0, 55606)\t0.13822596989753821\n",
      "  (0, 57247)\t0.1352084247105906\n",
      "  (0, 84312)\t0.16368392505928514\n",
      "  (0, 34741)\t0.14847880131844235\n",
      "  (0, 31927)\t0.10526008886822914\n",
      "  (0, 80420)\t0.127069039671221\n",
      "  (0, 25717)\t0.46579831435138974\n",
      "  (0, 37256)\t0.20599311323287353\n",
      "  (0, 96879)\t0.13703598126117264\n",
      "(11314, 101322)\n",
      "11314 101322\n"
     ]
    }
   ],
   "source": [
    "print(X_train[0])\n",
    "print(X_train.shape)\n",
    "print(len(newsgroups_train.data), len(vectorizer.vocabulary_))"
   ]
  },
  {
   "cell_type": "markdown",
   "metadata": {
    "id": "FxpGgRYCIiab"
   },
   "source": [
    "Each dimension corresponds to a word in the original text. For example:"
   ]
  },
  {
   "cell_type": "code",
   "execution_count": 12,
   "metadata": {
    "colab": {
     "base_uri": "https://localhost:8080/"
    },
    "id": "ZXlffuWyGcjf",
    "outputId": "891e1dd0-4233-478b-cfaf-04a0bee9856e"
   },
   "outputs": [
    {
     "name": "stdout",
     "output_type": "stream",
     "text": [
      "car 0.46579831435138974\n",
      "saw 0.127069039671221\n"
     ]
    }
   ],
   "source": [
    "print(vectorizer.get_feature_names_out()[25717], X_train[0, 25717])\n",
    "print(vectorizer.get_feature_names_out()[80420], X_train[0, 80420])"
   ]
  },
  {
   "cell_type": "markdown",
   "metadata": {
    "id": "sQRxH-MG_Ki2"
   },
   "source": [
    "# Rocchio Model"
   ]
  },
  {
   "attachments": {},
   "cell_type": "markdown",
   "metadata": {
    "id": "oxRXoRTx_MTW"
   },
   "source": [
    "Secondo il modello di Rocchio, una parola (che nel vocabolario ha indice $w$) ha un peso $\\Omega_w^i$ nella categoria $C_i$ definito così:\n",
    "$$ \\Omega_w^i = max\\{0, \\frac{\\beta}{|T_i|}\\sum_{d \\in T_i} \\omega_w^d - \\frac{\\gamma}{|\\bar{T}_i|}\\sum_{d \\in \\bar{T}_i} \\omega_w^d\\} $$\n",
    "\n",
    "- $\\omega_w^d$ è il peso o importanza tf-idf per la parola $w$ (indice del vocabolario) nel documento d rispetto a tutto il corpus. \n",
    "- I documenti $d$ vengono suddivisi in due sottoinsiemi disgiunti:\n",
    "    - $T_i$ sono i documenti che appartengono alla classe $i$ del training set.\n",
    "    - $\\bar{T}_i$ sono i documenti che NON appartengono alla classe $i$ del training set.\n",
    "- $\\beta$ è il peso per l'evidenza POSITIVA, ovvero che la parola faccia parte della classe $i$.\n",
    "- $\\gamma$ è il peso per l'evidenza NEGATIVA, ovvero che la parola NON faccia parte della classe $i$.\n",
    "- Più aumentiamo $\\beta$ rispetto a $gamma$ epiù viene data importanza all'evidenza POSITIVA, quindi si potrebbero avere dei falsi positivi.\n",
    "- Più aumentiamo $\\gamma$, meno peso viene dato ai termini poco rilevanti.\n",
    "\n",
    "Se il vocabolario ha dimensione $M$, definiamo:\n",
    "- i **vettori categoria**, ovvero la lista di pesi che ciascuna parola  ha per appartenere a una determinata classe. Se il peso per una parola è positivo, c'è un'evidenza POSITIVA che la classe contiene parole del genere.\n",
    "$$(\\Omega_1^i, ..., \\Omega_M^i)^T$$\n",
    "- i **vettori documento**, ovvero i vettori tf-idf di ogni parola del vocabolario, che rappresentano un documento. Se il punteggio tf-idf per una parola è elevato, allora quella parola è più importante di altre per questo documento.\n",
    "$$(\\omega_1^i, ..., \\omega_M^i)^T$$\n",
    "\n",
    "Il modello di Rocchio è debole alle **categorie polimorfiche**, ovvero quando il vettore che rappresenta una parola ha una distanza angolare (cosine similarity) che la rende più vicina alla categoria sbagliata."
   ]
  },
  {
   "cell_type": "code",
   "execution_count": 13,
   "metadata": {
    "id": "jFTcu1N3QOG7"
   },
   "outputs": [],
   "source": [
    "# Define the Rocchio Algorithm function\n",
    "def rocchio_model(X_train, y_train, beta=1, gamma=1):\n",
    "\n",
    "  # Calculate the centroid for each class\n",
    "  centroids = np.zeros((len(np.unique(y_train)), X_train.shape[1]))\n",
    "  for i, label in enumerate(np.unique(y_train)):\n",
    "    centroids[i] = X_train[y_train == label].mean(axis=0)\n",
    "\n",
    "  # Calculate the prototype for each class (sono dei vettori)\n",
    "  prototypes = np.zeros((len(np.unique(y_train)), X_train.shape[1]))\n",
    "  for i, label in enumerate(np.unique(y_train)):\n",
    "    prototypes[i] = beta * (X_train[y_train == label].sum(axis=0) - centroids[i]) / X_train[y_train == label].getnnz() \\\n",
    "                    - gamma * X_train[y_train != label].sum(axis=0) / X_train[y_train != label].getnnz()\n",
    "\n",
    "  return prototypes\n",
    "\n",
    "def test(rocchio_model, X_test):\n",
    "  # Make predictions on the test set\n",
    "  y_pred = []\n",
    "  for doc in X_test:\n",
    "    similarities = np.zeros(len(rocchio_model))\n",
    "    for i, prototype in enumerate(rocchio_model):\n",
    "      similarities[i] = cosine_similarity(doc.toarray().flatten().reshape(1, -1), prototype.flatten().reshape(1, -1))\n",
    "\n",
    "    # store only the value of the class maximized by the similarity\n",
    "    y_pred.append(np.argmax(similarities))\n",
    "\n",
    "  return y_pred"
   ]
  },
  {
   "cell_type": "markdown",
   "metadata": {
    "id": "85gXsYH5-RQI"
   },
   "source": [
    "## Test the model"
   ]
  },
  {
   "cell_type": "markdown",
   "metadata": {
    "id": "HB8wbASq-TYe"
   },
   "source": [
    "Test the model with default parameters. Notice that for sake of brevity, the test set is limited to the first 500 (`X_test[:500]`) instances. You will need to evaluate the models on the entire test set."
   ]
  },
  {
   "cell_type": "code",
   "execution_count": 9,
   "metadata": {
    "colab": {
     "base_uri": "https://localhost:8080/"
    },
    "id": "i5fp8w-IW5Rt",
    "outputId": "a8835cf7-9fc9-4513-e955-53abe8e9280b"
   },
   "outputs": [
    {
     "name": "stdout",
     "output_type": "stream",
     "text": [
      "(20, 101322)\n",
      "                          precision    recall  f1-score   support\n",
      "\n",
      "             alt.atheism       0.22      0.48      0.30        21\n",
      "           comp.graphics       0.44      0.76      0.56        21\n",
      " comp.os.ms-windows.misc       0.60      0.35      0.44        26\n",
      "comp.sys.ibm.pc.hardware       0.46      0.56      0.51        34\n",
      "   comp.sys.mac.hardware       0.68      0.74      0.70        34\n",
      "          comp.windows.x       0.79      0.73      0.76        26\n",
      "            misc.forsale       0.72      0.59      0.65        22\n",
      "               rec.autos       0.72      0.82      0.77        28\n",
      "         rec.motorcycles       0.76      0.76      0.76        33\n",
      "      rec.sport.baseball       0.82      0.92      0.87        25\n",
      "        rec.sport.hockey       0.96      0.85      0.90        27\n",
      "               sci.crypt       0.79      0.55      0.65        20\n",
      "         sci.electronics       0.44      0.67      0.53        24\n",
      "                 sci.med       0.79      0.48      0.59        23\n",
      "               sci.space       0.89      0.57      0.70        28\n",
      "  soc.religion.christian       0.81      0.72      0.76        29\n",
      "      talk.politics.guns       0.67      0.76      0.71        21\n",
      "   talk.politics.mideast       1.00      0.56      0.71        18\n",
      "      talk.politics.misc       0.59      0.38      0.47        26\n",
      "      talk.religion.misc       0.38      0.21      0.27        14\n",
      "\n",
      "                accuracy                           0.64       500\n",
      "               macro avg       0.68      0.62      0.63       500\n",
      "            weighted avg       0.68      0.64      0.64       500\n",
      "\n"
     ]
    }
   ],
   "source": [
    "# get the model\n",
    "rocchio_prototypes = rocchio_model(X_train, y_train)\n",
    "print(rocchio_prototypes.shape)\n",
    "\n",
    "# Make predictions on the test set\n",
    "y_pred = test(rocchio_prototypes, X_test[:500])\n",
    "\n",
    "# Print the classification report and confusion matrix\n",
    "print(classification_report(y_test[:500], y_pred, target_names=newsgroups_test.target_names))"
   ]
  },
  {
   "cell_type": "markdown",
   "metadata": {
    "id": "1ckRfe1B-YW3"
   },
   "source": [
    "Test the model with `beta=1, gamma=10`. The negative examples are more important."
   ]
  },
  {
   "cell_type": "code",
   "execution_count": 10,
   "metadata": {
    "colab": {
     "base_uri": "https://localhost:8080/"
    },
    "id": "pwpTvUc1-G9w",
    "outputId": "5ac5609c-cc50-4d82-bec5-c848c48047e6"
   },
   "outputs": [
    {
     "name": "stdout",
     "output_type": "stream",
     "text": [
      "                          precision    recall  f1-score   support\n",
      "\n",
      "             alt.atheism       0.17      0.29      0.21        21\n",
      "           comp.graphics       0.57      0.76      0.65        21\n",
      " comp.os.ms-windows.misc       0.67      0.46      0.55        26\n",
      "comp.sys.ibm.pc.hardware       0.49      0.62      0.55        34\n",
      "   comp.sys.mac.hardware       0.60      0.74      0.66        34\n",
      "          comp.windows.x       0.79      0.73      0.76        26\n",
      "            misc.forsale       0.56      0.64      0.60        22\n",
      "               rec.autos       0.73      0.79      0.76        28\n",
      "         rec.motorcycles       0.76      0.79      0.78        33\n",
      "      rec.sport.baseball       0.81      0.88      0.85        25\n",
      "        rec.sport.hockey       0.86      0.93      0.89        27\n",
      "               sci.crypt       0.76      0.65      0.70        20\n",
      "         sci.electronics       0.71      0.42      0.53        24\n",
      "                 sci.med       0.80      0.70      0.74        23\n",
      "               sci.space       0.78      0.64      0.71        28\n",
      "  soc.religion.christian       0.67      0.76      0.71        29\n",
      "      talk.politics.guns       0.64      0.86      0.73        21\n",
      "   talk.politics.mideast       1.00      0.61      0.76        18\n",
      "      talk.politics.misc       0.62      0.31      0.41        26\n",
      "      talk.religion.misc       0.20      0.07      0.11        14\n",
      "\n",
      "                accuracy                           0.65       500\n",
      "               macro avg       0.66      0.63      0.63       500\n",
      "            weighted avg       0.67      0.65      0.65       500\n",
      "\n"
     ]
    }
   ],
   "source": [
    "# get the model\n",
    "prototypes = rocchio_model(X_train, y_train, beta=1, gamma=10)\n",
    "\n",
    "# Make predictions on the test set\n",
    "y_pred = test(prototypes, X_test[:500])\n",
    "\n",
    "# Print the classification report and confusion matrix\n",
    "print(classification_report(y_test[:500], y_pred, target_names=newsgroups_test.target_names))"
   ]
  },
  {
   "cell_type": "markdown",
   "metadata": {
    "id": "hMkMnaQb-db0"
   },
   "source": [
    "Test the model with `beta=10, gamma=1`. Positive examples are more important here."
   ]
  },
  {
   "cell_type": "code",
   "execution_count": 11,
   "metadata": {
    "colab": {
     "base_uri": "https://localhost:8080/"
    },
    "id": "F5qt2CZt-M6H",
    "outputId": "7162c1f4-557f-43eb-a297-a9a3372b10cc"
   },
   "outputs": [
    {
     "name": "stdout",
     "output_type": "stream",
     "text": [
      "                          precision    recall  f1-score   support\n",
      "\n",
      "             alt.atheism       0.17      0.33      0.23        21\n",
      "           comp.graphics       0.48      0.76      0.59        21\n",
      " comp.os.ms-windows.misc       0.62      0.58      0.60        26\n",
      "comp.sys.ibm.pc.hardware       0.56      0.56      0.56        34\n",
      "   comp.sys.mac.hardware       0.81      0.62      0.70        34\n",
      "          comp.windows.x       0.82      0.69      0.75        26\n",
      "            misc.forsale       0.72      0.59      0.65        22\n",
      "               rec.autos       0.85      0.82      0.84        28\n",
      "         rec.motorcycles       0.93      0.76      0.83        33\n",
      "      rec.sport.baseball       0.91      0.80      0.85        25\n",
      "        rec.sport.hockey       0.83      0.89      0.86        27\n",
      "               sci.crypt       0.81      0.65      0.72        20\n",
      "         sci.electronics       0.50      0.62      0.56        24\n",
      "                 sci.med       0.89      0.74      0.81        23\n",
      "               sci.space       0.81      0.75      0.78        28\n",
      "  soc.religion.christian       0.79      0.66      0.72        29\n",
      "      talk.politics.guns       0.63      0.81      0.71        21\n",
      "   talk.politics.mideast       1.00      0.67      0.80        18\n",
      "      talk.politics.misc       0.41      0.50      0.45        26\n",
      "      talk.religion.misc       0.33      0.29      0.31        14\n",
      "\n",
      "                accuracy                           0.66       500\n",
      "               macro avg       0.69      0.65      0.67       500\n",
      "            weighted avg       0.71      0.66      0.68       500\n",
      "\n"
     ]
    }
   ],
   "source": [
    "# get the model\n",
    "prototypes = rocchio_model(X_train, y_train, beta=10, gamma=1)\n",
    "\n",
    "# Make predictions on the test set\n",
    "y_pred = test(prototypes, X_test[:500])\n",
    "\n",
    "# Print the classification report and confusion matrix\n",
    "print(classification_report(y_test[:500], y_pred, target_names=newsgroups_test.target_names))"
   ]
  },
  {
   "cell_type": "markdown",
   "metadata": {
    "id": "oqE9c4QNA5FN"
   },
   "source": [
    "## EXERCISE: Find the best parameters"
   ]
  },
  {
   "cell_type": "markdown",
   "metadata": {
    "id": "uV-hOhrDA7cI"
   },
   "source": [
    "Now it's your turn. Find the best parameters `beta` and `gamma` in order to maximize somehow the overall F1-measure.  \n",
    "\n",
    "**Hint**: use a *grid search* by defining 2 `for` loops and save the values of the params; then plot the result in a graphic, discuss it brefly and write some conclusions.\n",
    "\n",
    "1. Run the Rocchio model over a set of different parameter pair (beta, gamma)\n",
    "2. Plot as shown in the previous practice lesso the F1 measure achieved with the diffferent settings (useplt or seaborn)\n",
    "3. Try to modify the code (Rocchio model) to select class specific pairs (beta_i, gamma_i) for each individual i-th class"
   ]
  },
  {
   "cell_type": "code",
   "execution_count": 43,
   "metadata": {},
   "outputs": [
    {
     "name": "stdout",
     "output_type": "stream",
     "text": [
      "class GridSearchCV(BaseSearchCV):\n",
      "    \"\"\"Exhaustive search over specified parameter values for an estimator.\n",
      "\n",
      "    Important members are fit, predict.\n",
      "\n",
      "    GridSearchCV implements a \"fit\" and a \"score\" method.\n",
      "    It also implements \"score_samples\", \"predict\", \"predict_proba\",\n",
      "    \"decision_function\", \"transform\" and \"inverse_transform\" if they are\n",
      "    implemented in the estimator used.\n",
      "\n",
      "    The parameters of the estimator used to apply these methods are optimized\n",
      "    by cross-validated grid-search over a parameter grid.\n",
      "\n",
      "    Read more in the :ref:`User Guide <grid_search>`.\n",
      "\n",
      "    Parameters\n",
      "    ----------\n",
      "    estimator : estimator object\n",
      "        This is assumed to implement the scikit-learn estimator interface.\n",
      "        Either estimator needs to provide a ``score`` function,\n",
      "        or ``scoring`` must be passed.\n",
      "\n",
      "    param_grid : dict or list of dictionaries\n",
      "        Dictionary with parameters names (`str`) as keys and lists of\n",
      "        parameter settings to try as values, or a list of such\n",
      "        dictionaries, in which case the grids spanned by each dictionary\n",
      "        in the list are explored. This enables searching over any sequence\n",
      "        of parameter settings.\n",
      "\n",
      "    scoring : str, callable, list, tuple or dict, default=None\n",
      "        Strategy to evaluate the performance of the cross-validated model on\n",
      "        the test set.\n",
      "\n",
      "        If `scoring` represents a single score, one can use:\n",
      "\n",
      "        - a single string (see :ref:`scoring_parameter`);\n",
      "        - a callable (see :ref:`scoring`) that returns a single value.\n",
      "\n",
      "        If `scoring` represents multiple scores, one can use:\n",
      "\n",
      "        - a list or tuple of unique strings;\n",
      "        - a callable returning a dictionary where the keys are the metric\n",
      "          names and the values are the metric scores;\n",
      "        - a dictionary with metric names as keys and callables a values.\n",
      "\n",
      "        See :ref:`multimetric_grid_search` for an example.\n",
      "\n",
      "    n_jobs : int, default=None\n",
      "        Number of jobs to run in parallel.\n",
      "        ``None`` means 1 unless in a :obj:`joblib.parallel_backend` context.\n",
      "        ``-1`` means using all processors. See :term:`Glossary <n_jobs>`\n",
      "        for more details.\n",
      "\n",
      "        .. versionchanged:: v0.20\n",
      "           `n_jobs` default changed from 1 to None\n",
      "\n",
      "    refit : bool, str, or callable, default=True\n",
      "        Refit an estimator using the best found parameters on the whole\n",
      "        dataset.\n",
      "\n",
      "        For multiple metric evaluation, this needs to be a `str` denoting the\n",
      "        scorer that would be used to find the best parameters for refitting\n",
      "        the estimator at the end.\n",
      "\n",
      "        Where there are considerations other than maximum score in\n",
      "        choosing a best estimator, ``refit`` can be set to a function which\n",
      "        returns the selected ``best_index_`` given ``cv_results_``. In that\n",
      "        case, the ``best_estimator_`` and ``best_params_`` will be set\n",
      "        according to the returned ``best_index_`` while the ``best_score_``\n",
      "        attribute will not be available.\n",
      "\n",
      "        The refitted estimator is made available at the ``best_estimator_``\n",
      "        attribute and permits using ``predict`` directly on this\n",
      "        ``GridSearchCV`` instance.\n",
      "\n",
      "        Also for multiple metric evaluation, the attributes ``best_index_``,\n",
      "        ``best_score_`` and ``best_params_`` will only be available if\n",
      "        ``refit`` is set and all of them will be determined w.r.t this specific\n",
      "        scorer.\n",
      "\n",
      "        See ``scoring`` parameter to know more about multiple metric\n",
      "        evaluation.\n",
      "\n",
      "        .. versionchanged:: 0.20\n",
      "            Support for callable added.\n",
      "\n",
      "    cv : int, cross-validation generator or an iterable, default=None\n",
      "        Determines the cross-validation splitting strategy.\n",
      "        Possible inputs for cv are:\n",
      "\n",
      "        - None, to use the default 5-fold cross validation,\n",
      "        - integer, to specify the number of folds in a `(Stratified)KFold`,\n",
      "        - :term:`CV splitter`,\n",
      "        - An iterable yielding (train, test) splits as arrays of indices.\n",
      "\n",
      "        For integer/None inputs, if the estimator is a classifier and ``y`` is\n",
      "        either binary or multiclass, :class:`StratifiedKFold` is used. In all\n",
      "        other cases, :class:`KFold` is used. These splitters are instantiated\n",
      "        with `shuffle=False` so the splits will be the same across calls.\n",
      "\n",
      "        Refer :ref:`User Guide <cross_validation>` for the various\n",
      "        cross-validation strategies that can be used here.\n",
      "\n",
      "        .. versionchanged:: 0.22\n",
      "            ``cv`` default value if None changed from 3-fold to 5-fold.\n",
      "\n",
      "    verbose : int\n",
      "        Controls the verbosity: the higher, the more messages.\n",
      "\n",
      "        - >1 : the computation time for each fold and parameter candidate is\n",
      "          displayed;\n",
      "        - >2 : the score is also displayed;\n",
      "        - >3 : the fold and candidate parameter indexes are also displayed\n",
      "          together with the starting time of the computation.\n",
      "\n",
      "    pre_dispatch : int, or str, default='2*n_jobs'\n",
      "        Controls the number of jobs that get dispatched during parallel\n",
      "        execution. Reducing this number can be useful to avoid an\n",
      "        explosion of memory consumption when more jobs get dispatched\n",
      "        than CPUs can process. This parameter can be:\n",
      "\n",
      "            - None, in which case all the jobs are immediately\n",
      "              created and spawned. Use this for lightweight and\n",
      "              fast-running jobs, to avoid delays due to on-demand\n",
      "              spawning of the jobs\n",
      "\n",
      "            - An int, giving the exact number of total jobs that are\n",
      "              spawned\n",
      "\n",
      "            - A str, giving an expression as a function of n_jobs,\n",
      "              as in '2*n_jobs'\n",
      "\n",
      "    error_score : 'raise' or numeric, default=np.nan\n",
      "        Value to assign to the score if an error occurs in estimator fitting.\n",
      "        If set to 'raise', the error is raised. If a numeric value is given,\n",
      "        FitFailedWarning is raised. This parameter does not affect the refit\n",
      "        step, which will always raise the error.\n",
      "\n",
      "    return_train_score : bool, default=False\n",
      "        If ``False``, the ``cv_results_`` attribute will not include training\n",
      "        scores.\n",
      "        Computing training scores is used to get insights on how different\n",
      "        parameter settings impact the overfitting/underfitting trade-off.\n",
      "        However computing the scores on the training set can be computationally\n",
      "        expensive and is not strictly required to select the parameters that\n",
      "        yield the best generalization performance.\n",
      "\n",
      "        .. versionadded:: 0.19\n",
      "\n",
      "        .. versionchanged:: 0.21\n",
      "            Default value was changed from ``True`` to ``False``\n",
      "\n",
      "    Attributes\n",
      "    ----------\n",
      "    cv_results_ : dict of numpy (masked) ndarrays\n",
      "        A dict with keys as column headers and values as columns, that can be\n",
      "        imported into a pandas ``DataFrame``.\n",
      "\n",
      "        For instance the below given table\n",
      "\n",
      "        +------------+-----------+------------+-----------------+---+---------+\n",
      "        |param_kernel|param_gamma|param_degree|split0_test_score|...|rank_t...|\n",
      "        +============+===========+============+=================+===+=========+\n",
      "        |  'poly'    |     --    |      2     |       0.80      |...|    2    |\n",
      "        +------------+-----------+------------+-----------------+---+---------+\n",
      "        |  'poly'    |     --    |      3     |       0.70      |...|    4    |\n",
      "        +------------+-----------+------------+-----------------+---+---------+\n",
      "        |  'rbf'     |     0.1   |     --     |       0.80      |...|    3    |\n",
      "        +------------+-----------+------------+-----------------+---+---------+\n",
      "        |  'rbf'     |     0.2   |     --     |       0.93      |...|    1    |\n",
      "        +------------+-----------+------------+-----------------+---+---------+\n",
      "\n",
      "        will be represented by a ``cv_results_`` dict of::\n",
      "\n",
      "            {\n",
      "            'param_kernel': masked_array(data = ['poly', 'poly', 'rbf', 'rbf'],\n",
      "                                         mask = [False False False False]...)\n",
      "            'param_gamma': masked_array(data = [-- -- 0.1 0.2],\n",
      "                                        mask = [ True  True False False]...),\n",
      "            'param_degree': masked_array(data = [2.0 3.0 -- --],\n",
      "                                         mask = [False False  True  True]...),\n",
      "            'split0_test_score'  : [0.80, 0.70, 0.80, 0.93],\n",
      "            'split1_test_score'  : [0.82, 0.50, 0.70, 0.78],\n",
      "            'mean_test_score'    : [0.81, 0.60, 0.75, 0.85],\n",
      "            'std_test_score'     : [0.01, 0.10, 0.05, 0.08],\n",
      "            'rank_test_score'    : [2, 4, 3, 1],\n",
      "            'split0_train_score' : [0.80, 0.92, 0.70, 0.93],\n",
      "            'split1_train_score' : [0.82, 0.55, 0.70, 0.87],\n",
      "            'mean_train_score'   : [0.81, 0.74, 0.70, 0.90],\n",
      "            'std_train_score'    : [0.01, 0.19, 0.00, 0.03],\n",
      "            'mean_fit_time'      : [0.73, 0.63, 0.43, 0.49],\n",
      "            'std_fit_time'       : [0.01, 0.02, 0.01, 0.01],\n",
      "            'mean_score_time'    : [0.01, 0.06, 0.04, 0.04],\n",
      "            'std_score_time'     : [0.00, 0.00, 0.00, 0.01],\n",
      "            'params'             : [{'kernel': 'poly', 'degree': 2}, ...],\n",
      "            }\n",
      "\n",
      "        NOTE\n",
      "\n",
      "        The key ``'params'`` is used to store a list of parameter\n",
      "        settings dicts for all the parameter candidates.\n",
      "\n",
      "        The ``mean_fit_time``, ``std_fit_time``, ``mean_score_time`` and\n",
      "        ``std_score_time`` are all in seconds.\n",
      "\n",
      "        For multi-metric evaluation, the scores for all the scorers are\n",
      "        available in the ``cv_results_`` dict at the keys ending with that\n",
      "        scorer's name (``'_<scorer_name>'``) instead of ``'_score'`` shown\n",
      "        above. ('split0_test_precision', 'mean_train_precision' etc.)\n",
      "\n",
      "    best_estimator_ : estimator\n",
      "        Estimator that was chosen by the search, i.e. estimator\n",
      "        which gave highest score (or smallest loss if specified)\n",
      "        on the left out data. Not available if ``refit=False``.\n",
      "\n",
      "        See ``refit`` parameter for more information on allowed values.\n",
      "\n",
      "    best_score_ : float\n",
      "        Mean cross-validated score of the best_estimator\n",
      "\n",
      "        For multi-metric evaluation, this is present only if ``refit`` is\n",
      "        specified.\n",
      "\n",
      "        This attribute is not available if ``refit`` is a function.\n",
      "\n",
      "    best_params_ : dict\n",
      "        Parameter setting that gave the best results on the hold out data.\n",
      "\n",
      "        For multi-metric evaluation, this is present only if ``refit`` is\n",
      "        specified.\n",
      "\n",
      "    best_index_ : int\n",
      "        The index (of the ``cv_results_`` arrays) which corresponds to the best\n",
      "        candidate parameter setting.\n",
      "\n",
      "        The dict at ``search.cv_results_['params'][search.best_index_]`` gives\n",
      "        the parameter setting for the best model, that gives the highest\n",
      "        mean score (``search.best_score_``).\n",
      "\n",
      "        For multi-metric evaluation, this is present only if ``refit`` is\n",
      "        specified.\n",
      "\n",
      "    scorer_ : function or a dict\n",
      "        Scorer function used on the held out data to choose the best\n",
      "        parameters for the model.\n",
      "\n",
      "        For multi-metric evaluation, this attribute holds the validated\n",
      "        ``scoring`` dict which maps the scorer key to the scorer callable.\n",
      "\n",
      "    n_splits_ : int\n",
      "        The number of cross-validation splits (folds/iterations).\n",
      "\n",
      "    refit_time_ : float\n",
      "        Seconds used for refitting the best model on the whole dataset.\n",
      "\n",
      "        This is present only if ``refit`` is not False.\n",
      "\n",
      "        .. versionadded:: 0.20\n",
      "\n",
      "    multimetric_ : bool\n",
      "        Whether or not the scorers compute several metrics.\n",
      "\n",
      "    classes_ : ndarray of shape (n_classes,)\n",
      "        The classes labels. This is present only if ``refit`` is specified and\n",
      "        the underlying estimator is a classifier.\n",
      "\n",
      "    n_features_in_ : int\n",
      "        Number of features seen during :term:`fit`. Only defined if\n",
      "        `best_estimator_` is defined (see the documentation for the `refit`\n",
      "        parameter for more details) and that `best_estimator_` exposes\n",
      "        `n_features_in_` when fit.\n",
      "\n",
      "        .. versionadded:: 0.24\n",
      "\n",
      "    feature_names_in_ : ndarray of shape (`n_features_in_`,)\n",
      "        Names of features seen during :term:`fit`. Only defined if\n",
      "        `best_estimator_` is defined (see the documentation for the `refit`\n",
      "        parameter for more details) and that `best_estimator_` exposes\n",
      "        `feature_names_in_` when fit.\n",
      "\n",
      "        .. versionadded:: 1.0\n",
      "\n",
      "    Notes\n",
      "    -----\n",
      "    The parameters selected are those that maximize the score of the left out\n",
      "    data, unless an explicit score is passed in which case it is used instead.\n",
      "\n",
      "    If `n_jobs` was set to a value higher than one, the data is copied for each\n",
      "    point in the grid (and not `n_jobs` times). This is done for efficiency\n",
      "    reasons if individual jobs take very little time, but may raise errors if\n",
      "    the dataset is large and not enough memory is available.  A workaround in\n",
      "    this case is to set `pre_dispatch`. Then, the memory is copied only\n",
      "    `pre_dispatch` many times. A reasonable value for `pre_dispatch` is `2 *\n",
      "    n_jobs`.\n",
      "\n",
      "    See Also\n",
      "    ---------\n",
      "    ParameterGrid : Generates all the combinations of a hyperparameter grid.\n",
      "    train_test_split : Utility function to split the data into a development\n",
      "        set usable for fitting a GridSearchCV instance and an evaluation set\n",
      "        for its final evaluation.\n",
      "    sklearn.metrics.make_scorer : Make a scorer from a performance metric or\n",
      "        loss function.\n",
      "\n",
      "    Examples\n",
      "    --------\n",
      "    >>> from sklearn import svm, datasets\n",
      "    >>> from sklearn.model_selection import GridSearchCV\n",
      "    >>> iris = datasets.load_iris()\n",
      "    >>> parameters = {'kernel':('linear', 'rbf'), 'C':[1, 10]}\n",
      "    >>> svc = svm.SVC()\n",
      "    >>> clf = GridSearchCV(svc, parameters)\n",
      "    >>> clf.fit(iris.data, iris.target)\n",
      "    GridSearchCV(estimator=SVC(),\n",
      "                 param_grid={'C': [1, 10], 'kernel': ('linear', 'rbf')})\n",
      "    >>> sorted(clf.cv_results_.keys())\n",
      "    ['mean_fit_time', 'mean_score_time', 'mean_test_score',...\n",
      "     'param_C', 'param_kernel', 'params',...\n",
      "     'rank_test_score', 'split0_test_score',...\n",
      "     'split2_test_score', ...\n",
      "     'std_fit_time', 'std_score_time', 'std_test_score']\n",
      "    \"\"\"\n",
      "\n",
      "    _required_parameters = [\"estimator\", \"param_grid\"]\n",
      "\n",
      "    def __init__(\n",
      "        self,\n",
      "        estimator,\n",
      "        param_grid,\n",
      "        *,\n",
      "        scoring=None,\n",
      "        n_jobs=None,\n",
      "        refit=True,\n",
      "        cv=None,\n",
      "        verbose=0,\n",
      "        pre_dispatch=\"2*n_jobs\",\n",
      "        error_score=np.nan,\n",
      "        return_train_score=False,\n",
      "    ):\n",
      "        super().__init__(\n",
      "            estimator=estimator,\n",
      "            scoring=scoring,\n",
      "            n_jobs=n_jobs,\n",
      "            refit=refit,\n",
      "            cv=cv,\n",
      "            verbose=verbose,\n",
      "            pre_dispatch=pre_dispatch,\n",
      "            error_score=error_score,\n",
      "            return_train_score=return_train_score,\n",
      "        )\n",
      "        self.param_grid = param_grid\n",
      "        _check_param_grid(param_grid)\n",
      "\n",
      "    def _run_search(self, evaluate_candidates):\n",
      "        \"\"\"Search all candidates in param_grid\"\"\"\n",
      "        evaluate_candidates(ParameterGrid(self.param_grid))\n",
      "\n"
     ]
    }
   ],
   "source": [
    "import inspect\n",
    "print(inspect.getsource(GridSearchCV))"
   ]
  },
  {
   "cell_type": "code",
   "execution_count": 29,
   "metadata": {},
   "outputs": [],
   "source": [
    "class Rocchio_F1score:\n",
    "    def __init__(self, beta: float, gamma: float, f1: float):\n",
    "        self.beta = beta\n",
    "        self.gamma = gamma\n",
    "        self.f1 = f1\n",
    "\n",
    "    def beta_gamma(self):\n",
    "        return \"Beta: \" + str(self.beta) + \" Gamma: \" + str(self.gamma)\n",
    "\n",
    "    def __str__(self):\n",
    "        return \"Beta: \" + str(self.beta) + \" Gamma: \" + str(self.gamma) + \" f1: \" + str(self.f1)\n",
    "\n",
    "    def __repr__(self):\n",
    "        return \"(Beta: \" + str(self.beta) + \" Gamma: \" + str(self.gamma) + \" f1: \" + str(self.f1) + \")\"\n",
    "\n",
    "    def __gt__(self, rocchio2: Rocchio_F1score):\n",
    "        return self.f1 > rocchio2.f1\n",
    "\n",
    "    def __lt__(self, rocchio2: Rocchio_F1score):\n",
    "        return self.f1 < rocchio2.f1\n",
    "\n",
    "    def __eq__(self, rocchio2: Rocchio_F1score):\n",
    "        return self.f1 == rocchio2.f1\n",
    "\n",
    "    \n"
   ]
  },
  {
   "cell_type": "code",
   "execution_count": 65,
   "metadata": {},
   "outputs": [
    {
     "ename": "KeyboardInterrupt",
     "evalue": "",
     "output_type": "error",
     "traceback": [
      "\u001b[1;31m---------------------------------------------------------------------------\u001b[0m",
      "\u001b[1;31mKeyboardInterrupt\u001b[0m                         Traceback (most recent call last)",
      "\u001b[1;32m~\\AppData\\Local\\Temp\\ipykernel_14188\\1928607025.py\u001b[0m in \u001b[0;36m<module>\u001b[1;34m\u001b[0m\n\u001b[0;32m     16\u001b[0m \u001b[1;33m\u001b[0m\u001b[0m\n\u001b[0;32m     17\u001b[0m         \u001b[1;31m# Make predictions on the test set\u001b[0m\u001b[1;33m\u001b[0m\u001b[1;33m\u001b[0m\u001b[0m\n\u001b[1;32m---> 18\u001b[1;33m         \u001b[0my_pred\u001b[0m \u001b[1;33m=\u001b[0m \u001b[0mtest\u001b[0m\u001b[1;33m(\u001b[0m\u001b[0mrocchio_prototypes\u001b[0m\u001b[1;33m,\u001b[0m \u001b[0mX_test\u001b[0m\u001b[1;33m[\u001b[0m\u001b[1;33m:\u001b[0m\u001b[1;36m500\u001b[0m\u001b[1;33m]\u001b[0m\u001b[1;33m)\u001b[0m\u001b[1;33m\u001b[0m\u001b[1;33m\u001b[0m\u001b[0m\n\u001b[0m\u001b[0;32m     19\u001b[0m \u001b[1;33m\u001b[0m\u001b[0m\n\u001b[0;32m     20\u001b[0m         \u001b[1;31m# Print the classification report and confusion matrix\u001b[0m\u001b[1;33m\u001b[0m\u001b[1;33m\u001b[0m\u001b[0m\n",
      "\u001b[1;32m~\\AppData\\Local\\Temp\\ipykernel_14188\\1391258068.py\u001b[0m in \u001b[0;36mtest\u001b[1;34m(rocchio_model, X_test)\u001b[0m\n\u001b[0;32m     21\u001b[0m     \u001b[0msimilarities\u001b[0m \u001b[1;33m=\u001b[0m \u001b[0mnp\u001b[0m\u001b[1;33m.\u001b[0m\u001b[0mzeros\u001b[0m\u001b[1;33m(\u001b[0m\u001b[0mlen\u001b[0m\u001b[1;33m(\u001b[0m\u001b[0mrocchio_model\u001b[0m\u001b[1;33m)\u001b[0m\u001b[1;33m)\u001b[0m\u001b[1;33m\u001b[0m\u001b[1;33m\u001b[0m\u001b[0m\n\u001b[0;32m     22\u001b[0m     \u001b[1;32mfor\u001b[0m \u001b[0mi\u001b[0m\u001b[1;33m,\u001b[0m \u001b[0mprototype\u001b[0m \u001b[1;32min\u001b[0m \u001b[0menumerate\u001b[0m\u001b[1;33m(\u001b[0m\u001b[0mrocchio_model\u001b[0m\u001b[1;33m)\u001b[0m\u001b[1;33m:\u001b[0m\u001b[1;33m\u001b[0m\u001b[1;33m\u001b[0m\u001b[0m\n\u001b[1;32m---> 23\u001b[1;33m       \u001b[0msimilarities\u001b[0m\u001b[1;33m[\u001b[0m\u001b[0mi\u001b[0m\u001b[1;33m]\u001b[0m \u001b[1;33m=\u001b[0m \u001b[0mcosine_similarity\u001b[0m\u001b[1;33m(\u001b[0m\u001b[0mdoc\u001b[0m\u001b[1;33m.\u001b[0m\u001b[0mtoarray\u001b[0m\u001b[1;33m(\u001b[0m\u001b[1;33m)\u001b[0m\u001b[1;33m.\u001b[0m\u001b[0mflatten\u001b[0m\u001b[1;33m(\u001b[0m\u001b[1;33m)\u001b[0m\u001b[1;33m.\u001b[0m\u001b[0mreshape\u001b[0m\u001b[1;33m(\u001b[0m\u001b[1;36m1\u001b[0m\u001b[1;33m,\u001b[0m \u001b[1;33m-\u001b[0m\u001b[1;36m1\u001b[0m\u001b[1;33m)\u001b[0m\u001b[1;33m,\u001b[0m \u001b[0mprototype\u001b[0m\u001b[1;33m.\u001b[0m\u001b[0mflatten\u001b[0m\u001b[1;33m(\u001b[0m\u001b[1;33m)\u001b[0m\u001b[1;33m.\u001b[0m\u001b[0mreshape\u001b[0m\u001b[1;33m(\u001b[0m\u001b[1;36m1\u001b[0m\u001b[1;33m,\u001b[0m \u001b[1;33m-\u001b[0m\u001b[1;36m1\u001b[0m\u001b[1;33m)\u001b[0m\u001b[1;33m)\u001b[0m\u001b[1;33m\u001b[0m\u001b[1;33m\u001b[0m\u001b[0m\n\u001b[0m\u001b[0;32m     24\u001b[0m \u001b[1;33m\u001b[0m\u001b[0m\n\u001b[0;32m     25\u001b[0m     \u001b[1;31m# store only the value of the class maximized by the similarity\u001b[0m\u001b[1;33m\u001b[0m\u001b[1;33m\u001b[0m\u001b[0m\n",
      "\u001b[1;32mc:\\Users\\emeli\\anaconda3\\lib\\site-packages\\sklearn\\metrics\\pairwise.py\u001b[0m in \u001b[0;36mcosine_similarity\u001b[1;34m(X, Y, dense_output)\u001b[0m\n\u001b[0;32m   1255\u001b[0m         \u001b[0mY_normalized\u001b[0m \u001b[1;33m=\u001b[0m \u001b[0mX_normalized\u001b[0m\u001b[1;33m\u001b[0m\u001b[1;33m\u001b[0m\u001b[0m\n\u001b[0;32m   1256\u001b[0m     \u001b[1;32melse\u001b[0m\u001b[1;33m:\u001b[0m\u001b[1;33m\u001b[0m\u001b[1;33m\u001b[0m\u001b[0m\n\u001b[1;32m-> 1257\u001b[1;33m         \u001b[0mY_normalized\u001b[0m \u001b[1;33m=\u001b[0m \u001b[0mnormalize\u001b[0m\u001b[1;33m(\u001b[0m\u001b[0mY\u001b[0m\u001b[1;33m,\u001b[0m \u001b[0mcopy\u001b[0m\u001b[1;33m=\u001b[0m\u001b[1;32mTrue\u001b[0m\u001b[1;33m)\u001b[0m\u001b[1;33m\u001b[0m\u001b[1;33m\u001b[0m\u001b[0m\n\u001b[0m\u001b[0;32m   1258\u001b[0m \u001b[1;33m\u001b[0m\u001b[0m\n\u001b[0;32m   1259\u001b[0m     \u001b[0mK\u001b[0m \u001b[1;33m=\u001b[0m \u001b[0msafe_sparse_dot\u001b[0m\u001b[1;33m(\u001b[0m\u001b[0mX_normalized\u001b[0m\u001b[1;33m,\u001b[0m \u001b[0mY_normalized\u001b[0m\u001b[1;33m.\u001b[0m\u001b[0mT\u001b[0m\u001b[1;33m,\u001b[0m \u001b[0mdense_output\u001b[0m\u001b[1;33m=\u001b[0m\u001b[0mdense_output\u001b[0m\u001b[1;33m)\u001b[0m\u001b[1;33m\u001b[0m\u001b[1;33m\u001b[0m\u001b[0m\n",
      "\u001b[1;32mc:\\Users\\emeli\\anaconda3\\lib\\site-packages\\sklearn\\preprocessing\\_data.py\u001b[0m in \u001b[0;36mnormalize\u001b[1;34m(X, norm, axis, copy, return_norm)\u001b[0m\n\u001b[0;32m   1821\u001b[0m             \u001b[0mnorms\u001b[0m \u001b[1;33m=\u001b[0m \u001b[0mnp\u001b[0m\u001b[1;33m.\u001b[0m\u001b[0mabs\u001b[0m\u001b[1;33m(\u001b[0m\u001b[0mX\u001b[0m\u001b[1;33m)\u001b[0m\u001b[1;33m.\u001b[0m\u001b[0msum\u001b[0m\u001b[1;33m(\u001b[0m\u001b[0maxis\u001b[0m\u001b[1;33m=\u001b[0m\u001b[1;36m1\u001b[0m\u001b[1;33m)\u001b[0m\u001b[1;33m\u001b[0m\u001b[1;33m\u001b[0m\u001b[0m\n\u001b[0;32m   1822\u001b[0m         \u001b[1;32melif\u001b[0m \u001b[0mnorm\u001b[0m \u001b[1;33m==\u001b[0m \u001b[1;34m\"l2\"\u001b[0m\u001b[1;33m:\u001b[0m\u001b[1;33m\u001b[0m\u001b[1;33m\u001b[0m\u001b[0m\n\u001b[1;32m-> 1823\u001b[1;33m             \u001b[0mnorms\u001b[0m \u001b[1;33m=\u001b[0m \u001b[0mrow_norms\u001b[0m\u001b[1;33m(\u001b[0m\u001b[0mX\u001b[0m\u001b[1;33m)\u001b[0m\u001b[1;33m\u001b[0m\u001b[1;33m\u001b[0m\u001b[0m\n\u001b[0m\u001b[0;32m   1824\u001b[0m         \u001b[1;32melif\u001b[0m \u001b[0mnorm\u001b[0m \u001b[1;33m==\u001b[0m \u001b[1;34m\"max\"\u001b[0m\u001b[1;33m:\u001b[0m\u001b[1;33m\u001b[0m\u001b[1;33m\u001b[0m\u001b[0m\n\u001b[0;32m   1825\u001b[0m             \u001b[0mnorms\u001b[0m \u001b[1;33m=\u001b[0m \u001b[0mnp\u001b[0m\u001b[1;33m.\u001b[0m\u001b[0mmax\u001b[0m\u001b[1;33m(\u001b[0m\u001b[0mabs\u001b[0m\u001b[1;33m(\u001b[0m\u001b[0mX\u001b[0m\u001b[1;33m)\u001b[0m\u001b[1;33m,\u001b[0m \u001b[0maxis\u001b[0m\u001b[1;33m=\u001b[0m\u001b[1;36m1\u001b[0m\u001b[1;33m)\u001b[0m\u001b[1;33m\u001b[0m\u001b[1;33m\u001b[0m\u001b[0m\n",
      "\u001b[1;32mc:\\Users\\emeli\\anaconda3\\lib\\site-packages\\sklearn\\utils\\extmath.py\u001b[0m in \u001b[0;36mrow_norms\u001b[1;34m(X, squared)\u001b[0m\n\u001b[0;32m     74\u001b[0m         \u001b[0mnorms\u001b[0m \u001b[1;33m=\u001b[0m \u001b[0mcsr_row_norms\u001b[0m\u001b[1;33m(\u001b[0m\u001b[0mX\u001b[0m\u001b[1;33m)\u001b[0m\u001b[1;33m\u001b[0m\u001b[1;33m\u001b[0m\u001b[0m\n\u001b[0;32m     75\u001b[0m     \u001b[1;32melse\u001b[0m\u001b[1;33m:\u001b[0m\u001b[1;33m\u001b[0m\u001b[1;33m\u001b[0m\u001b[0m\n\u001b[1;32m---> 76\u001b[1;33m         \u001b[0mnorms\u001b[0m \u001b[1;33m=\u001b[0m \u001b[0mnp\u001b[0m\u001b[1;33m.\u001b[0m\u001b[0meinsum\u001b[0m\u001b[1;33m(\u001b[0m\u001b[1;34m\"ij,ij->i\"\u001b[0m\u001b[1;33m,\u001b[0m \u001b[0mX\u001b[0m\u001b[1;33m,\u001b[0m \u001b[0mX\u001b[0m\u001b[1;33m)\u001b[0m\u001b[1;33m\u001b[0m\u001b[1;33m\u001b[0m\u001b[0m\n\u001b[0m\u001b[0;32m     77\u001b[0m \u001b[1;33m\u001b[0m\u001b[0m\n\u001b[0;32m     78\u001b[0m     \u001b[1;32mif\u001b[0m \u001b[1;32mnot\u001b[0m \u001b[0msquared\u001b[0m\u001b[1;33m:\u001b[0m\u001b[1;33m\u001b[0m\u001b[1;33m\u001b[0m\u001b[0m\n",
      "\u001b[1;32m<__array_function__ internals>\u001b[0m in \u001b[0;36meinsum\u001b[1;34m(*args, **kwargs)\u001b[0m\n",
      "\u001b[1;32mc:\\Users\\emeli\\anaconda3\\lib\\site-packages\\numpy\\core\\einsumfunc.py\u001b[0m in \u001b[0;36meinsum\u001b[1;34m(out, optimize, *operands, **kwargs)\u001b[0m\n\u001b[0;32m   1357\u001b[0m         \u001b[1;32mif\u001b[0m \u001b[0mspecified_out\u001b[0m\u001b[1;33m:\u001b[0m\u001b[1;33m\u001b[0m\u001b[1;33m\u001b[0m\u001b[0m\n\u001b[0;32m   1358\u001b[0m             \u001b[0mkwargs\u001b[0m\u001b[1;33m[\u001b[0m\u001b[1;34m'out'\u001b[0m\u001b[1;33m]\u001b[0m \u001b[1;33m=\u001b[0m \u001b[0mout\u001b[0m\u001b[1;33m\u001b[0m\u001b[1;33m\u001b[0m\u001b[0m\n\u001b[1;32m-> 1359\u001b[1;33m         \u001b[1;32mreturn\u001b[0m \u001b[0mc_einsum\u001b[0m\u001b[1;33m(\u001b[0m\u001b[1;33m*\u001b[0m\u001b[0moperands\u001b[0m\u001b[1;33m,\u001b[0m \u001b[1;33m**\u001b[0m\u001b[0mkwargs\u001b[0m\u001b[1;33m)\u001b[0m\u001b[1;33m\u001b[0m\u001b[1;33m\u001b[0m\u001b[0m\n\u001b[0m\u001b[0;32m   1360\u001b[0m \u001b[1;33m\u001b[0m\u001b[0m\n\u001b[0;32m   1361\u001b[0m     \u001b[1;31m# Check the kwargs to avoid a more cryptic error later, without having to\u001b[0m\u001b[1;33m\u001b[0m\u001b[1;33m\u001b[0m\u001b[0m\n",
      "\u001b[1;31mKeyboardInterrupt\u001b[0m: "
     ]
    }
   ],
   "source": [
    "from sklearn.metrics import f1_score\n",
    "\n",
    "# fill the lists with plausible values\n",
    "betas_list = [0.1, 5, 10]\n",
    "gammas_list = [0.1, 5, 10]\n",
    "\n",
    "best_rocchio = Rocchio_F1score(0.0, 0.0, 0.0)\n",
    "\n",
    "rocchio_list = []\n",
    "\n",
    "for beta in betas_list:\n",
    "    for gamma in gammas_list:\n",
    "\n",
    "        rocchio_prototypes = rocchio_model(\n",
    "            X_train, y_train, beta=beta, gamma=gamma)\n",
    "\n",
    "        # Make predictions on the test set\n",
    "        y_pred = test(rocchio_prototypes, X_test[:500])\n",
    "\n",
    "        # Print the classification report and confusion matrix\n",
    "        f1 = f1_score(y_test[:500], y_pred, average='weighted')\n",
    "\n",
    "        rocchio = Rocchio_F1score(beta, gamma, f1)\n",
    "        rocchio_list.append(rocchio)\n",
    "        \n",
    "        if rocchio > best_rocchio:\n",
    "            best_rocchio = rocchio\n"
   ]
  },
  {
   "cell_type": "code",
   "execution_count": 32,
   "metadata": {},
   "outputs": [
    {
     "name": "stdout",
     "output_type": "stream",
     "text": [
      "Beta: 5 Gamma: 0.1 f1: 0.6841542350824499\n",
      "[(Beta: 0.1 Gamma: 0.1 f1: 0.644116085418252), (Beta: 0.1 Gamma: 5 f1: 0.6564194137014819), (Beta: 0.1 Gamma: 10 f1: 0.6479117042642492), (Beta: 5 Gamma: 0.1 f1: 0.6841542350824499), (Beta: 5 Gamma: 5 f1: 0.644116085418252), (Beta: 5 Gamma: 10 f1: 0.5851286896602356), (Beta: 10 Gamma: 0.1 f1: 0.6841542350824499), (Beta: 10 Gamma: 5 f1: 0.6713875609544332), (Beta: 10 Gamma: 10 f1: 0.644116085418252)]\n"
     ]
    }
   ],
   "source": [
    "print(best_rocchio)\n",
    "print(rocchio_list)"
   ]
  },
  {
   "cell_type": "code",
   "execution_count": 64,
   "metadata": {
    "id": "B3BwSc_N_I6n"
   },
   "outputs": [
    {
     "data": {
      "image/png": "[encoded data removed]",
      "text/plain": [
       "<Figure size 640x480 with 1 Axes>"
      ]
     },
     "metadata": {},
     "output_type": "display_data"
    }
   ],
   "source": [
    "from matplotlib import pyplot as plt\n",
    "# here make a plot as shown in the previous practice lesson with plt or seaborn.\n",
    "\n",
    "beta_gammas = map(lambda r: str(r.beta) +\",\"+ str(r.gamma), rocchio_list)\n",
    "# gammas = map(lambda r: r.gamma, rocchio_list)\n",
    "f1s = map(lambda r: r.f1, rocchio_list)\n",
    "\n",
    "plt.bar(height=list(f1s), x=list(beta_gammas))\n",
    "plt.title(\"F1 in funzione di beta e gamma\")\n",
    "plt.xlabel(\"(beta, gamma)\")\n",
    "plt.ylabel(\"f1\")\n",
    "plt.show()\n"
   ]
  },
  {
   "cell_type": "code",
   "execution_count": null,
   "metadata": {},
   "outputs": [],
   "source": [
    "# TODO: Try to modify the code (Rocchio model) to select class specific pairs (beta_i, gamma_i) for each individual i-th class\n"
   ]
  }
 ],
 "metadata": {
  "colab": {
   "provenance": [],
   "toc_visible": true
  },
  "kernelspec": {
   "display_name": "Python 3 (ipykernel)",
   "language": "python",
   "name": "python3"
  },
  "language_info": {
   "codemirror_mode": {
    "name": "ipython",
    "version": 3
   },
   "file_extension": ".py",
   "mimetype": "text/x-python",
   "name": "python",
   "nbconvert_exporter": "python",
   "pygments_lexer": "ipython3",
   "version": "3.9.13"
  }
 },
 "nbformat": 4,
 "nbformat_minor": 1
}
