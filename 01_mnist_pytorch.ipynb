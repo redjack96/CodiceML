{
 "cells": [
  {
   "cell_type": "code",
   "execution_count": 25,
   "metadata": {
    "jupyter": {
     "outputs_hidden": false
    }
   },
   "outputs": [
    {
     "name": "stdout",
     "output_type": "stream",
     "text": [
      "2\n"
     ]
    },
    {
     "name": "stderr",
     "output_type": "stream",
     "text": [
      "/tmp/ipykernel_46766/2989228656.py:20: MatplotlibDeprecationWarning: The get_cmap function was deprecated in Matplotlib 3.7 and will be removed two minor releases later. Use ``matplotlib.colormaps[name]`` or ``matplotlib.colormaps.get_cmap(obj)`` instead.\n",
      "  cmap_big = cm.get_cmap('Spectral', 512)\n"
     ]
    }
   ],
   "source": [
    "import numpy as np\n",
    "import pandas as pd\n",
    "import matplotlib.pyplot as plt\n",
    "import matplotlib.colors as mcolors\n",
    "from matplotlib import cm\n",
    "import seaborn as sn\n",
    "from pylab import subplot,imshow\n",
    "from sklearn.metrics import confusion_matrix, accuracy_score, classification_report, ConfusionMatrixDisplay\n",
    "\n",
    "import torch # pip3 install torch\n",
    "from torch import nn\n",
    "from torch.utils.data import DataLoader\n",
    "from torchvision import datasets # pip3 install torchvision\n",
    "from torchvision.transforms import ToTensor\n",
    "\n",
    "from torchinfo import summary # pip3 install torchinfo\n",
    "\n",
    "import pytorch_lightning as pl # pip3 install pytorch-lightning\n",
    "\n",
    "cmap_big = cm.get_cmap('Spectral', 512)\n",
    "cmap = mcolors.ListedColormap(cmap_big(np.linspace(0.35, 0.95, 256))) # np.linspace crea un vettore di numeri equidistanti tra 0.35 e 0.95\n",
    "\n",
    "print(2)"
   ]
  },
  {
   "cell_type": "code",
   "execution_count": 26,
   "metadata": {},
   "outputs": [],
   "source": [
    "plt.style.use('ggplot')\n",
    "plt.rcParams['font.family'] = 'sans-serif'\n",
    "plt.rcParams['font.serif'] = 'Ubuntu'\n",
    "plt.rcParams['font.monospace'] = 'Ubuntu Mono'\n",
    "plt.rcParams['font.size'] = 10\n",
    "plt.rcParams['axes.labelsize'] = 10\n",
    "plt.rcParams['axes.labelweight'] = 'bold'\n",
    "plt.rcParams['axes.titlesize'] = 10\n",
    "plt.rcParams['xtick.labelsize'] = 8\n",
    "plt.rcParams['ytick.labelsize'] = 8\n",
    "plt.rcParams['legend.fontsize'] = 10\n",
    "plt.rcParams['figure.titlesize'] = 12\n",
    "plt.rcParams['image.cmap'] = 'jet'\n",
    "plt.rcParams['image.interpolation'] = 'none'\n",
    "plt.rcParams['figure.figsize'] = (16, 8)\n",
    "plt.rcParams['lines.linewidth'] = 2\n",
    "\n",
    "colors = ['#5D80AE', '#FC5758', '#0DD77D', '#FFC507', '#F64044', \n",
    "          '#810f7c', '#137e6d', '#be0119', '#3b638c', '#af6f09']"
   ]
  },
  {
   "cell_type": "code",
   "execution_count": 27,
   "metadata": {},
   "outputs": [],
   "source": [
    "from typing import *\n",
    "\n",
    "class History:\n",
    "    \"\"\"Accumulates values in a dictionary of sequences.\"\"\"\n",
    "    def __init__(self, keys: List[str]):\n",
    "        self.data: Dict[str, List[float]]= {}\n",
    "        self.keys: List[str] = keys\n",
    "        for k in self.keys:\n",
    "            self.data[k] = []\n",
    "\n",
    "    def add(self, *args: Any):\n",
    "        for k,a in zip(self.keys, args):\n",
    "            self.data[k].append(a)\n",
    "\n",
    "    def sums(self) -> Dict[str, float]:\n",
    "        \"\"\"\n",
    "        Ho un dizionario di chiavi e liste di float. Questo metodo produce\n",
    "        un nuovo dizionario con la stessa chiave e gli elementi della sequenza sommati\n",
    "        \"\"\"\n",
    "        return {k: sum(self.data[k]) for k in self.keys}\n",
    "\n",
    "    def merge(self, d: dict[str, List[float]]):\n",
    "        \"\"\"\n",
    "        Unisce il dizionario di questo oggetto con il dizionario passato in input\n",
    "        :param d: un dizionario con chiave string e lista di valori float\n",
    "        \"\"\"\n",
    "        for k in self.keys:\n",
    "            self.data[k].extend(d[k])\n",
    "\n",
    "    def __getitem__(self, k: str) -> List[float]:\n",
    "        \"\"\"\n",
    "        Restituisce la lista relativa alla chiave k\n",
    "        :param k:\n",
    "        :return:\n",
    "        \"\"\"\n",
    "        return self.data[k]\n",
    "\n",
    "\n",
    "def displayData(X: np.ndarray, t: np.ndarray, rows: int = 10, cols: int = 10, size: float = 8, class_value: bool = False):\n",
    "    \"\"\"\n",
    "    Mostra le immagini del dataset e il valore target subito sopra ciascuna di esse, in forma di tabella.\n",
    "    :param X: Le feature, ovvero le immagini che rappresentano le cifre del dataset MNIST di training\n",
    "    :param t: Il target del dataset di training, ovvero un intero tra 0,1,...,9\n",
    "    :param rows: il numero di righe della tabella\n",
    "    :param cols: il numero di colonne della tabella\n",
    "    :param size: la dimensione della tabella\n",
    "    :param class_value: se true, mostra anche i valori target al di sopra di ogni immagini (come se fosse il titolo dell'immagine)\n",
    "    :return:\n",
    "    \"\"\"\n",
    "    X = X.numpy()\n",
    "    t = t.numpy()\n",
    "    if len(X)>rows*cols:\n",
    "        img_ind = np.random.permutation(len(X))[0:rows * cols]\n",
    "    else:\n",
    "        img_ind = range(rows*cols)\n",
    "    fig = plt.figure(figsize = (size,size))\n",
    "    fig.patch.set_facecolor('white')\n",
    "    ax = fig.gca()\n",
    "    for i in range(100):\n",
    "        plt.subplot(10,10,i+1)\n",
    "        plt.imshow([255-x for x in X[img_ind[i]]], cmap='gray', interpolation='gaussian')\n",
    "        if class_value:\n",
    "            plt.title(\"{}\".format(t[img_ind[i]]),fontsize = 10, color=colors[4])\n",
    "        plt.gca().xaxis.set_major_locator(plt.NullLocator())\n",
    "        plt.gca().yaxis.set_major_locator(plt.NullLocator())\n",
    "        plt.axis('off') \n",
    "    plt.subplots_adjust(top=1)\n",
    "    plt.show()\n",
    "\n",
    "\n",
    "def plotData(X, Y, c, npixel=28):\n",
    "    X = X.numpy()\n",
    "    m, n = X.shape\n",
    "    image = np.array(X[c,:])\n",
    "    plt.figure(figsize = (6,6))\n",
    "    plt.imshow((image.reshape(npixel, npixel)), cmap='Greys', interpolation='quadric')\n",
    "    plt.show()\n",
    "\n",
    "\n",
    "def save_model_coeffs(m,filename):\n",
    "    torch.save(m.state_dict(), filename)\n",
    "    print(\"Saved model coefficients to disk\")\n",
    "\n",
    "\n",
    "def load_model_coeffs(m, filename):\n",
    "    m.load_state_dict(torch.load(filename))\n",
    "    print(\"Model coefficients loaded from disk\")"
   ]
  },
  {
   "cell_type": "code",
   "execution_count": 28,
   "metadata": {},
   "outputs": [],
   "source": [
    "def accuracy(preds, targets):  #@save\n",
    "    \"\"\"Compute the number of correct predictions.\"\"\"\n",
    "    # deal with the case when an array of probabilities is predict, by deriving the highest-probability class\n",
    "    if len(preds.shape) > 1 and preds.shape[1] > 1:\n",
    "        preds = preds.argmax(axis=1)\n",
    "    cmp = preds.type(targets.dtype) == targets\n",
    "    return float(cmp.type(targets.dtype).sum())\n",
    "\n",
    "\n",
    "def evaluate_accuracy(net, data_iter):\n",
    "    \"\"\"Compute the accuracy for a model on a dataset.\"\"\"\n",
    "    if isinstance(net, torch.nn.Module):\n",
    "        # Set the model to eval mode\n",
    "        net.eval()\n",
    "    h_test = History(['correct_predictions', 'predictions'])  # No. of correct predictions, no. of predictions\n",
    "    with torch.no_grad(): # Gradients must not be computed\n",
    "        count = 0\n",
    "        for X, y in data_iter:\n",
    "            count += 1\n",
    "            if count%10 == 0:\n",
    "                print('x', end='')\n",
    "            #X = X.flatten(start_dim=1, end_dim=-1)\n",
    "            h_test.add(accuracy(net(X), y), len(y))\n",
    "        s = h_test.sums()\n",
    "    print(' ')\n",
    "    return s['correct_predictions']/s['predictions']\n",
    "\n",
    "\n",
    "def train_epoch(model, train_iter, loss_func, optimizer): \n",
    "    if isinstance(model, torch.nn.Module):\n",
    "        model.train()  # Set the model to training mode\n",
    "    h_epoch = History(['loss', 'correct_predictions', 'n_examples']) # Training loss, no. of correct predictions, no. of examples\n",
    "    count = 0\n",
    "    for X, y in train_iter:\n",
    "        count += 1\n",
    "        if count%10 == 0:\n",
    "            print('.', end='')\n",
    "        #X=X.flatten(start_dim=1, end_dim=-1)\n",
    "        # Compute predictions\n",
    "        y_hat = model(X)\n",
    "        # Compute loss\n",
    "        loss = loss_func(y_hat, y)\n",
    "        optimizer.zero_grad()\n",
    "        # Compute gradients\n",
    "        loss.backward()\n",
    "        # Update parameters\n",
    "        optimizer.step()\n",
    "        h_epoch.add(float(loss), accuracy(y_hat, y), len(y))\n",
    "    # Return training loss and training accuracy\n",
    "    s = h_epoch.sums()\n",
    "    return s['loss']/s['n_examples'], s['correct_predictions']/s['n_examples'], h_epoch\n",
    "\n",
    "\n",
    "def train(net, loaders, loss_func, num_epochs, updater, report=False):\n",
    "    h_batch = History(['loss', 'correct_predictions', 'n_examples'])\n",
    "    h_train = History(['training_loss', 'training_accuracy', 'test_accuracy']) # Avg. training loss, avg. training accuracy, test accuracy\n",
    "    for epoch in range(num_epochs):\n",
    "        print(f'Epoch #{epoch+1}')\n",
    "        # train model for one epoch\n",
    "        train_loss, train_acc, h_epoch = train_epoch(net, loaders['train'], loss_func, updater)\n",
    "        # evaluate accuracy on test set\n",
    "        test_acc = evaluate_accuracy(net, loaders['test'])\n",
    "        if report:\n",
    "            print(f' Loss {train_loss:3.4f}, Training set accuracy {train_acc:1.4f}, Test set accuracy {test_acc:1.4f}')\n",
    "        else:\n",
    "            print('\\n')\n",
    "        h_train.add(train_loss, train_acc, test_acc)\n",
    "        h_batch.merge(h_epoch.data)\n",
    "    return h_train, h_batch\n",
    "\n",
    "\n",
    "def predict(net, loaders):\n",
    "    preds_train = []\n",
    "    y_train = []\n",
    "    preds_test = []\n",
    "    y_test = []\n",
    "    if isinstance(net, torch.nn.Module):\n",
    "        net.eval()\n",
    "    with torch.no_grad():\n",
    "        for X, y in loaders['train']:\n",
    "            #X = X.flatten(start_dim=1, end_dim=-1)\n",
    "            preds = (torch.max(net(X),1)[1]).numpy()\n",
    "            preds_train.extend(preds)\n",
    "            y_train.extend(y.numpy())\n",
    "        for X, y in loaders['test']:\n",
    "            #X = X.flatten(start_dim=1, end_dim=-1)\n",
    "            preds = (torch.max(net(X),1)[1]).numpy()\n",
    "            preds_test.extend(preds)\n",
    "            y_test.extend(y.numpy())\n",
    "    return preds_train, y_train, preds_test, y_test"
   ]
  },
  {
   "cell_type": "code",
   "execution_count": 29,
   "metadata": {},
   "outputs": [],
   "source": [
    "    \n",
    "def plot_metrics(title, h, hb):\n",
    "    losses = []\n",
    "    accs = []\n",
    "    for l, c, n in zip(hb.data['loss'], hb.data['correct_predictions'], hb.data['n_examples']):\n",
    "        losses.append(l/n)\n",
    "        accs.append(c/n)\n",
    "    n = len(accs)\n",
    "    step = int(n/num_epochs)\n",
    "    xs = range(step-1, n+step-1, step)\n",
    "\n",
    "    f, (ax1, ax2) = plt.subplots(2, 1, sharex=True, figsize=(12,8))\n",
    "    ax1.plot(range(len(losses)),losses, color= colors[0], lw=.5, label='Loss by batch', zorder=2)\n",
    "    ax1.scatter(xs, h.data['training_loss'], color=colors[1], edgecolors='black', label='Loss by epoch', zorder=2)\n",
    "    for x in xs:\n",
    "        ax1.axvline(x, lw=1, color='gray', zorder=1)\n",
    "    ax1.legend()\n",
    "    ax1.set_title('Loss')\n",
    "    ax2.plot(range(len(accs)),accs, color= colors[0], lw=.5, label='Training set accuracy by batch', zorder=2)\n",
    "    ax2.scatter(xs, h.data['training_accuracy'], color=colors[1], edgecolors='black', label='Training set accuracy by epoch', zorder=2)\n",
    "    ax2.scatter(xs, h.data['test_accuracy'], color=colors[2], edgecolors='black', label='Test set accuracy by epoch', zorder=2)\n",
    "    for x in xs:\n",
    "        ax2.axvline(x, lw=1, color='gray', zorder=1)\n",
    "    ax2.legend()\n",
    "    ax2.set_title('Accuracy')\n",
    "    plt.suptitle(title)\n",
    "    plt.show()\n",
    "\n",
    "\n",
    "def plot_label_dist(predictions_probs, predicted_class, true_label):\n",
    "      plt.figure(figsize = (4,4))\n",
    "      thisplot = plt.bar(range(10), predictions_probs, color=\"#77aaaa\")\n",
    "      plt.ylim([0, 1]) \n",
    "      thisplot[predicted_class].set_color(colors[0])\n",
    "      thisplot[true_label].set_edgecolor(colors[4])\n",
    "      thisplot[true_label].set_linewidth(1)\n",
    "      plt.grid(False)\n",
    "      plt.xticks(range(10))\n",
    "      plt.yticks([])\n",
    "      plt.show()"
   ]
  },
  {
   "cell_type": "markdown",
   "metadata": {},
   "source": [
    "Read training and test sets into Pytorch datasets"
   ]
  },
  {
   "cell_type": "code",
   "execution_count": 30,
   "metadata": {},
   "outputs": [],
   "source": [
    "# Converts a PIL Image or numpy.ndarray (h x w x n) in the range [0, 255] to a torch.FloatTensor of shape (n x h x w)\n",
    "trans = ToTensor()\n",
    "\n",
    "mnist_train = datasets.MNIST(root=\"../data\", train=True, transform=trans, download=True)\n",
    "mnist_test = datasets.MNIST(root=\"../data\", train=False, transform=trans, download=True)"
   ]
  },
  {
   "cell_type": "code",
   "execution_count": 31,
   "metadata": {},
   "outputs": [
    {
     "data": {
      "text/plain": "torch.Size([60000, 28, 28])"
     },
     "execution_count": 31,
     "metadata": {},
     "output_type": "execute_result"
    }
   ],
   "source": [
    "mnist_train.data.shape"
   ]
  },
  {
   "cell_type": "code",
   "execution_count": 32,
   "metadata": {},
   "outputs": [
    {
     "data": {
      "text/plain": "torch.Size([60000])"
     },
     "execution_count": 32,
     "metadata": {},
     "output_type": "execute_result"
    }
   ],
   "source": [
    "mnist_train.targets.shape"
   ]
  },
  {
   "cell_type": "markdown",
   "metadata": {},
   "source": [
    "Features are organized in a 3-dimensional tensor of size $n\\times h\\times w$ of $n$ items (matrices), each of $h$ rows and $w$ columns. Targets are organized as a 1d tensor of size $n$"
   ]
  },
  {
   "cell_type": "code",
   "execution_count": 33,
   "metadata": {},
   "outputs": [
    {
     "name": "stdout",
     "output_type": "stream",
     "text": [
      "Training set features: n=60000, h=28, w=28\n",
      "Training set targets: n=60000\n"
     ]
    }
   ],
   "source": [
    "print(f'Training set features: n={mnist_train.data.numpy().shape[0]}, h={mnist_train.data.numpy().shape[1]}, w={mnist_train.data.numpy().shape[2]}')\n",
    "print(f'Training set targets: n={mnist_train.targets.numpy().shape[0]}')"
   ]
  },
  {
   "cell_type": "markdown",
   "metadata": {},
   "source": [
    "The test set is organized in the same way, with a different value of $n$"
   ]
  },
  {
   "cell_type": "code",
   "execution_count": 34,
   "metadata": {},
   "outputs": [
    {
     "name": "stdout",
     "output_type": "stream",
     "text": [
      "Test set features: n=10000, h=28, w=28\n",
      "Test set targets: n=10000\n"
     ]
    }
   ],
   "source": [
    "print(f'Test set features: n={mnist_test.data.numpy().shape[0]}, h={mnist_test.data.numpy().shape[1]}, w={mnist_test.data.numpy().shape[2]}')\n",
    "print(f'Test set targets: n={mnist_test.targets.numpy().shape[0]}')"
   ]
  },
  {
   "cell_type": "markdown",
   "metadata": {},
   "source": [
    "An image is coded as a matrix 28x28 reals in [0,1] (higher value = darker color)"
   ]
  },
  {
   "cell_type": "code",
   "execution_count": 35,
   "metadata": {},
   "outputs": [
    {
     "name": "stdout",
     "output_type": "stream",
     "text": [
      "tensor([[  0,   0,   0,   0,   0,   0,   0,   0,   0,   0,   0,   0,   0,   0,\n",
      "           0,   0,   0,   0,   0,   0,   0,   0,   0,   0,   0,   0,   0,   0],\n",
      "        [  0,   0,   0,   0,   0,   0,   0,   0,   0,   0,   0,   0,   0,   0,\n",
      "           0,   0,   0,   0,   0,   0,   0,   0,   0,   0,   0,   0,   0,   0],\n",
      "        [  0,   0,   0,   0,   0,   0,   0,   0,   0,   0,   0,   0,   0,   0,\n",
      "           0,   0,   0,   0,   0,   0,   0,   0,   0,   0,   0,   0,   0,   0],\n",
      "        [  0,   0,   0,   0,   0,   0,   0,   0,   0,   0,   0,   0,   0,   0,\n",
      "           0,   0,   0,   0,   0,   0,   0,   0,   0,   0,   0,   0,   0,   0],\n",
      "        [  0,   0,   0,   0,   0,   0,   0,   0,   0,   0,   0,   0,   0,   0,\n",
      "           0,   0,   0,   0,   0,   0,   0,   0,   0,   0,   0,   0,   0,   0],\n",
      "        [  0,   0,   0,   0,   0,   0,   0,   0,   0,   0,   0,   0,   3,  18,\n",
      "          18,  18, 126, 136, 175,  26, 166, 255, 247, 127,   0,   0,   0,   0],\n",
      "        [  0,   0,   0,   0,   0,   0,   0,   0,  30,  36,  94, 154, 170, 253,\n",
      "         253, 253, 253, 253, 225, 172, 253, 242, 195,  64,   0,   0,   0,   0],\n",
      "        [  0,   0,   0,   0,   0,   0,   0,  49, 238, 253, 253, 253, 253, 253,\n",
      "         253, 253, 253, 251,  93,  82,  82,  56,  39,   0,   0,   0,   0,   0],\n",
      "        [  0,   0,   0,   0,   0,   0,   0,  18, 219, 253, 253, 253, 253, 253,\n",
      "         198, 182, 247, 241,   0,   0,   0,   0,   0,   0,   0,   0,   0,   0],\n",
      "        [  0,   0,   0,   0,   0,   0,   0,   0,  80, 156, 107, 253, 253, 205,\n",
      "          11,   0,  43, 154,   0,   0,   0,   0,   0,   0,   0,   0,   0,   0],\n",
      "        [  0,   0,   0,   0,   0,   0,   0,   0,   0,  14,   1, 154, 253,  90,\n",
      "           0,   0,   0,   0,   0,   0,   0,   0,   0,   0,   0,   0,   0,   0],\n",
      "        [  0,   0,   0,   0,   0,   0,   0,   0,   0,   0,   0, 139, 253, 190,\n",
      "           2,   0,   0,   0,   0,   0,   0,   0,   0,   0,   0,   0,   0,   0],\n",
      "        [  0,   0,   0,   0,   0,   0,   0,   0,   0,   0,   0,  11, 190, 253,\n",
      "          70,   0,   0,   0,   0,   0,   0,   0,   0,   0,   0,   0,   0,   0],\n",
      "        [  0,   0,   0,   0,   0,   0,   0,   0,   0,   0,   0,   0,  35, 241,\n",
      "         225, 160, 108,   1,   0,   0,   0,   0,   0,   0,   0,   0,   0,   0],\n",
      "        [  0,   0,   0,   0,   0,   0,   0,   0,   0,   0,   0,   0,   0,  81,\n",
      "         240, 253, 253, 119,  25,   0,   0,   0,   0,   0,   0,   0,   0,   0],\n",
      "        [  0,   0,   0,   0,   0,   0,   0,   0,   0,   0,   0,   0,   0,   0,\n",
      "          45, 186, 253, 253, 150,  27,   0,   0,   0,   0,   0,   0,   0,   0],\n",
      "        [  0,   0,   0,   0,   0,   0,   0,   0,   0,   0,   0,   0,   0,   0,\n",
      "           0,  16,  93, 252, 253, 187,   0,   0,   0,   0,   0,   0,   0,   0],\n",
      "        [  0,   0,   0,   0,   0,   0,   0,   0,   0,   0,   0,   0,   0,   0,\n",
      "           0,   0,   0, 249, 253, 249,  64,   0,   0,   0,   0,   0,   0,   0],\n",
      "        [  0,   0,   0,   0,   0,   0,   0,   0,   0,   0,   0,   0,   0,   0,\n",
      "          46, 130, 183, 253, 253, 207,   2,   0,   0,   0,   0,   0,   0,   0],\n",
      "        [  0,   0,   0,   0,   0,   0,   0,   0,   0,   0,   0,   0,  39, 148,\n",
      "         229, 253, 253, 253, 250, 182,   0,   0,   0,   0,   0,   0,   0,   0],\n",
      "        [  0,   0,   0,   0,   0,   0,   0,   0,   0,   0,  24, 114, 221, 253,\n",
      "         253, 253, 253, 201,  78,   0,   0,   0,   0,   0,   0,   0,   0,   0],\n",
      "        [  0,   0,   0,   0,   0,   0,   0,   0,  23,  66, 213, 253, 253, 253,\n",
      "         253, 198,  81,   2,   0,   0,   0,   0,   0,   0,   0,   0,   0,   0],\n",
      "        [  0,   0,   0,   0,   0,   0,  18, 171, 219, 253, 253, 253, 253, 195,\n",
      "          80,   9,   0,   0,   0,   0,   0,   0,   0,   0,   0,   0,   0,   0],\n",
      "        [  0,   0,   0,   0,  55, 172, 226, 253, 253, 253, 253, 244, 133,  11,\n",
      "           0,   0,   0,   0,   0,   0,   0,   0,   0,   0,   0,   0,   0,   0],\n",
      "        [  0,   0,   0,   0, 136, 253, 253, 253, 212, 135, 132,  16,   0,   0,\n",
      "           0,   0,   0,   0,   0,   0,   0,   0,   0,   0,   0,   0,   0,   0],\n",
      "        [  0,   0,   0,   0,   0,   0,   0,   0,   0,   0,   0,   0,   0,   0,\n",
      "           0,   0,   0,   0,   0,   0,   0,   0,   0,   0,   0,   0,   0,   0],\n",
      "        [  0,   0,   0,   0,   0,   0,   0,   0,   0,   0,   0,   0,   0,   0,\n",
      "           0,   0,   0,   0,   0,   0,   0,   0,   0,   0,   0,   0,   0,   0],\n",
      "        [  0,   0,   0,   0,   0,   0,   0,   0,   0,   0,   0,   0,   0,   0,\n",
      "           0,   0,   0,   0,   0,   0,   0,   0,   0,   0,   0,   0,   0,   0]],\n",
      "       dtype=torch.uint8)\n"
     ]
    }
   ],
   "source": [
    "print(mnist_train.data[0,:,:])"
   ]
  },
  {
   "cell_type": "code",
   "execution_count": 49,
   "metadata": {
    "jupyter": {
     "outputs_hidden": false
    }
   },
   "outputs": [
    {
     "name": "stderr",
     "output_type": "stream",
     "text": [
      "/tmp/ipykernel_46766/3081785000.py:41: MatplotlibDeprecationWarning: Auto-removal of overlapping axes is deprecated since 3.6 and will be removed two minor releases later; explicitly call ax.remove() as needed.\n",
      "  plt.subplot(10,10,i+1)\n"
     ]
    },
    {
     "data": {
      "text/plain": "<Figure size 800x800 with 100 Axes>",
      "image/png": "[encoded data removed]"
     },
     "metadata": {},
     "output_type": "display_data"
    }
   ],
   "source": [
    "displayData(mnist_train.data[100:200], mnist_train.targets[100:200], class_value=True)"
   ]
  },
  {
   "cell_type": "markdown",
   "metadata": {},
   "source": [
    "Target values"
   ]
  },
  {
   "cell_type": "code",
   "execution_count": 37,
   "metadata": {},
   "outputs": [
    {
     "data": {
      "text/plain": "tensor([5, 0, 4, 1, 9, 2, 1, 3, 1, 4])"
     },
     "execution_count": 37,
     "metadata": {},
     "output_type": "execute_result"
    }
   ],
   "source": [
    "mnist_train.targets[:10]"
   ]
  },
  {
   "cell_type": "markdown",
   "metadata": {},
   "source": [
    "Target values one-hot encoded"
   ]
  },
  {
   "cell_type": "code",
   "execution_count": 38,
   "metadata": {},
   "outputs": [
    {
     "data": {
      "text/plain": "tensor([[0, 0, 0, 0, 0, 1, 0, 0, 0, 0],\n        [1, 0, 0, 0, 0, 0, 0, 0, 0, 0],\n        [0, 0, 0, 0, 1, 0, 0, 0, 0, 0],\n        [0, 1, 0, 0, 0, 0, 0, 0, 0, 0],\n        [0, 0, 0, 0, 0, 0, 0, 0, 0, 1],\n        [0, 0, 1, 0, 0, 0, 0, 0, 0, 0],\n        [0, 1, 0, 0, 0, 0, 0, 0, 0, 0],\n        [0, 0, 0, 1, 0, 0, 0, 0, 0, 0],\n        [0, 1, 0, 0, 0, 0, 0, 0, 0, 0],\n        [0, 0, 0, 0, 1, 0, 0, 0, 0, 0]])"
     },
     "execution_count": 38,
     "metadata": {},
     "output_type": "execute_result"
    }
   ],
   "source": [
    "torch.nn.functional.one_hot(mnist_train.targets[:10])"
   ]
  },
  {
   "cell_type": "code",
   "execution_count": 39,
   "metadata": {},
   "outputs": [],
   "source": [
    "height = mnist_train.data.shape[1]\n",
    "width = mnist_train.data.shape[2]\n",
    "num_classes = mnist_train.targets.unique().shape[0]"
   ]
  },
  {
   "cell_type": "markdown",
   "metadata": {},
   "source": [
    "Define data loaders to provide datasets batches during the training process"
   ]
  },
  {
   "cell_type": "code",
   "execution_count": 40,
   "metadata": {},
   "outputs": [],
   "source": [
    "batch_size = 100\n",
    "\n",
    "loaders = {'train' : DataLoader(mnist_train, batch_size=batch_size, shuffle=True),\n",
    "           'test'  : DataLoader(mnist_test, batch_size=batch_size, shuffle=True)}"
   ]
  },
  {
   "cell_type": "markdown",
   "metadata": {},
   "source": [
    "First approach: \n",
    "*   For each class, compute a linear combination of the ($28\\times 28 =784$) values $x_i, i=1,\\ldots, 784$ of the image, plus a constant (*bias*) $b$: that is, $785$ coefficients $w_1,\\ldots, w_{784}, b$ must be defined for each class, for a total number of $785\\times 10=7850$ coefficients\n",
    "*   For each class, to the value resulting from the linear combination $$\\sum_{i=1}^{784}w_ix_i+b$$ a suitable nonlinear function is applied (in this case the *exponential* function $e^{x}$)\n",
    "*   The resulting values, one for each class, are *normalized* to sum to $1$\n",
    "*   The result can be interpreted as a set of probabilities, associated to the set of disjoint events: the image belongs to the $i$-th class (it is a $0, 1, \\ldots, 9$)\n",
    "*   A strategy for assigning the image to a class can then be applied, such as assigning to the class of largest probability. In case, risk minimization approaches can be applied"
   ]
  },
  {
   "cell_type": "code",
   "execution_count": 41,
   "metadata": {},
   "outputs": [],
   "source": [
    "class NeuralNet0(nn.Module):\n",
    "    def __init__(self, w, h, num_classes):\n",
    "         super(NeuralNet0, self).__init__()\n",
    "         self.f = nn.Flatten()\n",
    "         self.l1 = nn.Linear(w*h, num_classes)   \n",
    "         self.ls = nn.LogSoftmax(dim=1)\n",
    "\n",
    "    def forward(self, x):\n",
    "         out = self.f(x)\n",
    "         out = self.l1(out)\n",
    "         out = self.ls(out)\n",
    "         return out "
   ]
  },
  {
   "cell_type": "markdown",
   "metadata": {},
   "source": [
    "Create the network"
   ]
  },
  {
   "cell_type": "code",
   "execution_count": 42,
   "metadata": {},
   "outputs": [],
   "source": [
    "model0 = NeuralNet0(height, width, num_classes)"
   ]
  },
  {
   "cell_type": "code",
   "execution_count": 43,
   "metadata": {},
   "outputs": [
    {
     "data": {
      "text/plain": "==========================================================================================\nLayer (type:depth-idx)                   Output Shape              Param #\n==========================================================================================\nNeuralNet0                               [100, 10]                 --\n├─Flatten: 1-1                           [100, 784]                --\n├─Linear: 1-2                            [100, 10]                 7,850\n├─LogSoftmax: 1-3                        [100, 10]                 --\n==========================================================================================\nTotal params: 7,850\nTrainable params: 7,850\nNon-trainable params: 0\nTotal mult-adds (M): 0.79\n==========================================================================================\nInput size (MB): 0.31\nForward/backward pass size (MB): 0.01\nParams size (MB): 0.03\nEstimated Total Size (MB): 0.35\n=========================================================================================="
     },
     "execution_count": 43,
     "metadata": {},
     "output_type": "execute_result"
    }
   ],
   "source": [
    "summary(model0, input_size=(batch_size, height*width))"
   ]
  },
  {
   "cell_type": "markdown",
   "metadata": {},
   "source": [
    "Define a loss function and a gradient descent method"
   ]
  },
  {
   "cell_type": "code",
   "execution_count": 44,
   "metadata": {},
   "outputs": [],
   "source": [
    "\n",
    "learning_rate = 0.001\n",
    "\n",
    "loss_func0 = nn.NLLLoss(reduction='sum')\n",
    "optimizer0 = torch.optim.Adam(model0.parameters(), lr=learning_rate)"
   ]
  },
  {
   "cell_type": "code",
   "execution_count": 45,
   "metadata": {},
   "outputs": [],
   "source": [
    "num_epochs = 3"
   ]
  },
  {
   "cell_type": "code",
   "execution_count": 46,
   "metadata": {},
   "outputs": [
    {
     "name": "stdout",
     "output_type": "stream",
     "text": [
      "Epoch #1\n"
     ]
    },
    {
     "ename": "RuntimeError",
     "evalue": "Expected all tensors to be on the same device, but found at least two devices, cuda:0 and cpu! (when checking argument for argument mat1 in method wrapper_addmm)",
     "output_type": "error",
     "traceback": [
      "\u001B[0;31m---------------------------------------------------------------------------\u001B[0m",
      "\u001B[0;31mRuntimeError\u001B[0m                              Traceback (most recent call last)",
      "Cell \u001B[0;32mIn[46], line 1\u001B[0m\n\u001B[0;32m----> 1\u001B[0m h, h_batch \u001B[38;5;241m=\u001B[39m \u001B[43mtrain\u001B[49m\u001B[43m(\u001B[49m\u001B[43mmodel0\u001B[49m\u001B[43m,\u001B[49m\u001B[43m \u001B[49m\u001B[43mloaders\u001B[49m\u001B[43m,\u001B[49m\u001B[43m \u001B[49m\u001B[43mloss_func0\u001B[49m\u001B[43m,\u001B[49m\u001B[43m \u001B[49m\u001B[43mnum_epochs\u001B[49m\u001B[43m,\u001B[49m\u001B[43m \u001B[49m\u001B[43moptimizer0\u001B[49m\u001B[43m,\u001B[49m\u001B[43m \u001B[49m\u001B[43mreport\u001B[49m\u001B[38;5;241;43m=\u001B[39;49m\u001B[38;5;28;43;01mTrue\u001B[39;49;00m\u001B[43m)\u001B[49m\n",
      "Cell \u001B[0;32mIn[28], line 60\u001B[0m, in \u001B[0;36mtrain\u001B[0;34m(net, loaders, loss_func, num_epochs, updater, report)\u001B[0m\n\u001B[1;32m     58\u001B[0m \u001B[38;5;28mprint\u001B[39m(\u001B[38;5;124mf\u001B[39m\u001B[38;5;124m'\u001B[39m\u001B[38;5;124mEpoch #\u001B[39m\u001B[38;5;132;01m{\u001B[39;00mepoch\u001B[38;5;241m+\u001B[39m\u001B[38;5;241m1\u001B[39m\u001B[38;5;132;01m}\u001B[39;00m\u001B[38;5;124m'\u001B[39m)\n\u001B[1;32m     59\u001B[0m \u001B[38;5;66;03m# train model for one epoch\u001B[39;00m\n\u001B[0;32m---> 60\u001B[0m train_loss, train_acc, h_epoch \u001B[38;5;241m=\u001B[39m \u001B[43mtrain_epoch\u001B[49m\u001B[43m(\u001B[49m\u001B[43mnet\u001B[49m\u001B[43m,\u001B[49m\u001B[43m \u001B[49m\u001B[43mloaders\u001B[49m\u001B[43m[\u001B[49m\u001B[38;5;124;43m'\u001B[39;49m\u001B[38;5;124;43mtrain\u001B[39;49m\u001B[38;5;124;43m'\u001B[39;49m\u001B[43m]\u001B[49m\u001B[43m,\u001B[49m\u001B[43m \u001B[49m\u001B[43mloss_func\u001B[49m\u001B[43m,\u001B[49m\u001B[43m \u001B[49m\u001B[43mupdater\u001B[49m\u001B[43m)\u001B[49m\n\u001B[1;32m     61\u001B[0m \u001B[38;5;66;03m# evaluate accuracy on test set\u001B[39;00m\n\u001B[1;32m     62\u001B[0m test_acc \u001B[38;5;241m=\u001B[39m evaluate_accuracy(net, loaders[\u001B[38;5;124m'\u001B[39m\u001B[38;5;124mtest\u001B[39m\u001B[38;5;124m'\u001B[39m])\n",
      "Cell \u001B[0;32mIn[28], line 40\u001B[0m, in \u001B[0;36mtrain_epoch\u001B[0;34m(model, train_iter, loss_func, optimizer)\u001B[0m\n\u001B[1;32m     37\u001B[0m     \u001B[38;5;28mprint\u001B[39m(\u001B[38;5;124m'\u001B[39m\u001B[38;5;124m.\u001B[39m\u001B[38;5;124m'\u001B[39m, end\u001B[38;5;241m=\u001B[39m\u001B[38;5;124m'\u001B[39m\u001B[38;5;124m'\u001B[39m)\n\u001B[1;32m     38\u001B[0m \u001B[38;5;66;03m#X=X.flatten(start_dim=1, end_dim=-1)\u001B[39;00m\n\u001B[1;32m     39\u001B[0m \u001B[38;5;66;03m# Compute predictions\u001B[39;00m\n\u001B[0;32m---> 40\u001B[0m y_hat \u001B[38;5;241m=\u001B[39m \u001B[43mmodel\u001B[49m\u001B[43m(\u001B[49m\u001B[43mX\u001B[49m\u001B[43m)\u001B[49m\n\u001B[1;32m     41\u001B[0m \u001B[38;5;66;03m# Compute loss\u001B[39;00m\n\u001B[1;32m     42\u001B[0m loss \u001B[38;5;241m=\u001B[39m loss_func(y_hat, y)\n",
      "File \u001B[0;32m~/PycharmProjects/CodiceML/venv/lib/python3.10/site-packages/torch/nn/modules/module.py:1194\u001B[0m, in \u001B[0;36mModule._call_impl\u001B[0;34m(self, *input, **kwargs)\u001B[0m\n\u001B[1;32m   1190\u001B[0m \u001B[38;5;66;03m# If we don't have any hooks, we want to skip the rest of the logic in\u001B[39;00m\n\u001B[1;32m   1191\u001B[0m \u001B[38;5;66;03m# this function, and just call forward.\u001B[39;00m\n\u001B[1;32m   1192\u001B[0m \u001B[38;5;28;01mif\u001B[39;00m \u001B[38;5;129;01mnot\u001B[39;00m (\u001B[38;5;28mself\u001B[39m\u001B[38;5;241m.\u001B[39m_backward_hooks \u001B[38;5;129;01mor\u001B[39;00m \u001B[38;5;28mself\u001B[39m\u001B[38;5;241m.\u001B[39m_forward_hooks \u001B[38;5;129;01mor\u001B[39;00m \u001B[38;5;28mself\u001B[39m\u001B[38;5;241m.\u001B[39m_forward_pre_hooks \u001B[38;5;129;01mor\u001B[39;00m _global_backward_hooks\n\u001B[1;32m   1193\u001B[0m         \u001B[38;5;129;01mor\u001B[39;00m _global_forward_hooks \u001B[38;5;129;01mor\u001B[39;00m _global_forward_pre_hooks):\n\u001B[0;32m-> 1194\u001B[0m     \u001B[38;5;28;01mreturn\u001B[39;00m \u001B[43mforward_call\u001B[49m\u001B[43m(\u001B[49m\u001B[38;5;241;43m*\u001B[39;49m\u001B[38;5;28;43minput\u001B[39;49m\u001B[43m,\u001B[49m\u001B[43m \u001B[49m\u001B[38;5;241;43m*\u001B[39;49m\u001B[38;5;241;43m*\u001B[39;49m\u001B[43mkwargs\u001B[49m\u001B[43m)\u001B[49m\n\u001B[1;32m   1195\u001B[0m \u001B[38;5;66;03m# Do not call functions when jit is used\u001B[39;00m\n\u001B[1;32m   1196\u001B[0m full_backward_hooks, non_full_backward_hooks \u001B[38;5;241m=\u001B[39m [], []\n",
      "Cell \u001B[0;32mIn[41], line 10\u001B[0m, in \u001B[0;36mNeuralNet0.forward\u001B[0;34m(self, x)\u001B[0m\n\u001B[1;32m      8\u001B[0m \u001B[38;5;28;01mdef\u001B[39;00m \u001B[38;5;21mforward\u001B[39m(\u001B[38;5;28mself\u001B[39m, x):\n\u001B[1;32m      9\u001B[0m      out \u001B[38;5;241m=\u001B[39m \u001B[38;5;28mself\u001B[39m\u001B[38;5;241m.\u001B[39mf(x)\n\u001B[0;32m---> 10\u001B[0m      out \u001B[38;5;241m=\u001B[39m \u001B[38;5;28;43mself\u001B[39;49m\u001B[38;5;241;43m.\u001B[39;49m\u001B[43ml1\u001B[49m\u001B[43m(\u001B[49m\u001B[43mout\u001B[49m\u001B[43m)\u001B[49m\n\u001B[1;32m     11\u001B[0m      out \u001B[38;5;241m=\u001B[39m \u001B[38;5;28mself\u001B[39m\u001B[38;5;241m.\u001B[39mls(out)\n\u001B[1;32m     12\u001B[0m      \u001B[38;5;28;01mreturn\u001B[39;00m out\n",
      "File \u001B[0;32m~/PycharmProjects/CodiceML/venv/lib/python3.10/site-packages/torch/nn/modules/module.py:1194\u001B[0m, in \u001B[0;36mModule._call_impl\u001B[0;34m(self, *input, **kwargs)\u001B[0m\n\u001B[1;32m   1190\u001B[0m \u001B[38;5;66;03m# If we don't have any hooks, we want to skip the rest of the logic in\u001B[39;00m\n\u001B[1;32m   1191\u001B[0m \u001B[38;5;66;03m# this function, and just call forward.\u001B[39;00m\n\u001B[1;32m   1192\u001B[0m \u001B[38;5;28;01mif\u001B[39;00m \u001B[38;5;129;01mnot\u001B[39;00m (\u001B[38;5;28mself\u001B[39m\u001B[38;5;241m.\u001B[39m_backward_hooks \u001B[38;5;129;01mor\u001B[39;00m \u001B[38;5;28mself\u001B[39m\u001B[38;5;241m.\u001B[39m_forward_hooks \u001B[38;5;129;01mor\u001B[39;00m \u001B[38;5;28mself\u001B[39m\u001B[38;5;241m.\u001B[39m_forward_pre_hooks \u001B[38;5;129;01mor\u001B[39;00m _global_backward_hooks\n\u001B[1;32m   1193\u001B[0m         \u001B[38;5;129;01mor\u001B[39;00m _global_forward_hooks \u001B[38;5;129;01mor\u001B[39;00m _global_forward_pre_hooks):\n\u001B[0;32m-> 1194\u001B[0m     \u001B[38;5;28;01mreturn\u001B[39;00m \u001B[43mforward_call\u001B[49m\u001B[43m(\u001B[49m\u001B[38;5;241;43m*\u001B[39;49m\u001B[38;5;28;43minput\u001B[39;49m\u001B[43m,\u001B[49m\u001B[43m \u001B[49m\u001B[38;5;241;43m*\u001B[39;49m\u001B[38;5;241;43m*\u001B[39;49m\u001B[43mkwargs\u001B[49m\u001B[43m)\u001B[49m\n\u001B[1;32m   1195\u001B[0m \u001B[38;5;66;03m# Do not call functions when jit is used\u001B[39;00m\n\u001B[1;32m   1196\u001B[0m full_backward_hooks, non_full_backward_hooks \u001B[38;5;241m=\u001B[39m [], []\n",
      "File \u001B[0;32m~/PycharmProjects/CodiceML/venv/lib/python3.10/site-packages/torch/nn/modules/linear.py:114\u001B[0m, in \u001B[0;36mLinear.forward\u001B[0;34m(self, input)\u001B[0m\n\u001B[1;32m    113\u001B[0m \u001B[38;5;28;01mdef\u001B[39;00m \u001B[38;5;21mforward\u001B[39m(\u001B[38;5;28mself\u001B[39m, \u001B[38;5;28minput\u001B[39m: Tensor) \u001B[38;5;241m-\u001B[39m\u001B[38;5;241m>\u001B[39m Tensor:\n\u001B[0;32m--> 114\u001B[0m     \u001B[38;5;28;01mreturn\u001B[39;00m \u001B[43mF\u001B[49m\u001B[38;5;241;43m.\u001B[39;49m\u001B[43mlinear\u001B[49m\u001B[43m(\u001B[49m\u001B[38;5;28;43minput\u001B[39;49m\u001B[43m,\u001B[49m\u001B[43m \u001B[49m\u001B[38;5;28;43mself\u001B[39;49m\u001B[38;5;241;43m.\u001B[39;49m\u001B[43mweight\u001B[49m\u001B[43m,\u001B[49m\u001B[43m \u001B[49m\u001B[38;5;28;43mself\u001B[39;49m\u001B[38;5;241;43m.\u001B[39;49m\u001B[43mbias\u001B[49m\u001B[43m)\u001B[49m\n",
      "\u001B[0;31mRuntimeError\u001B[0m: Expected all tensors to be on the same device, but found at least two devices, cuda:0 and cpu! (when checking argument for argument mat1 in method wrapper_addmm)"
     ]
    }
   ],
   "source": [
    "h, h_batch = train(model0, loaders, loss_func0, num_epochs, optimizer0, report=True)"
   ]
  },
  {
   "cell_type": "code",
   "execution_count": null,
   "metadata": {},
   "outputs": [],
   "source": [
    "plot_metrics('Softmax', h, h_batch)"
   ]
  },
  {
   "cell_type": "code",
   "execution_count": null,
   "metadata": {},
   "outputs": [],
   "source": [
    "save_model_coeffs(model0, 'softmax')"
   ]
  },
  {
   "cell_type": "code",
   "execution_count": null,
   "metadata": {},
   "outputs": [],
   "source": [
    "#load_model_coeffs(model0, 'softmax')"
   ]
  },
  {
   "cell_type": "code",
   "execution_count": null,
   "metadata": {},
   "outputs": [],
   "source": [
    "ptr, ytr, pte, yte = predict(model0, loaders)"
   ]
  },
  {
   "cell_type": "code",
   "execution_count": null,
   "metadata": {},
   "outputs": [],
   "source": [
    "plt.figure(figsize=(12,6))\n",
    "disp = ConfusionMatrixDisplay.from_predictions(ytr, ptr, normalize='true', cmap='Blues')\n",
    "disp.figure_.suptitle(\"Confusion Matrix Training Set\")\n",
    "plt.grid(None)\n",
    "plt.show()"
   ]
  },
  {
   "cell_type": "markdown",
   "metadata": {},
   "source": [
    "Accuracy: $$\\frac{\\text{\\# items classified correctly}}{\\text{\\# items}}$$\n",
    "\n",
    "Precision class $i$: $$\\frac{\\text{\\# items from class $i$ classified correctly}}{\\text{\\# items classified as class $i$}}$$\n",
    "\n",
    "Recall class $i$: $$\\frac{\\text{\\# items from class $i$ classified correctly}}{\\text{\\# items from class $i$}}$$\n",
    "\n",
    "F-score class $i$: $$\\frac{\\text{Precision classe $i$} \\times \\text{Recall classe $i$}}{\\text{Precision classe $i$}+\\text{Recall classe $i$}}$$"
   ]
  },
  {
   "cell_type": "code",
   "execution_count": null,
   "metadata": {},
   "outputs": [],
   "source": [
    "print('Training set')\n",
    "print(classification_report(ytr, ptr))"
   ]
  },
  {
   "cell_type": "code",
   "execution_count": null,
   "metadata": {},
   "outputs": [],
   "source": [
    "plt.figure(figsize=(12,6))\n",
    "disp = ConfusionMatrixDisplay.from_predictions(yte, pte, normalize='true', cmap='Blues')\n",
    "disp.figure_.suptitle(\"Confusion Matrix Test Set\")\n",
    "plt.grid(None)\n",
    "plt.show()"
   ]
  },
  {
   "cell_type": "code",
   "execution_count": null,
   "metadata": {},
   "outputs": [],
   "source": [
    "print('Test set')\n",
    "print(classification_report(yte, pte))"
   ]
  },
  {
   "cell_type": "code",
   "execution_count": null,
   "metadata": {},
   "outputs": [],
   "source": [
    "X=next(iter(loaders['train']))[0]"
   ]
  },
  {
   "cell_type": "code",
   "execution_count": null,
   "metadata": {},
   "outputs": [],
   "source": [
    "X.numpy().shape"
   ]
  },
  {
   "cell_type": "code",
   "execution_count": null,
   "metadata": {},
   "outputs": [],
   "source": [
    "idx = 21\n",
    "x = trans(mnist_train.data[idx,:,:].numpy())#.flatten(start_dim=0, end_dim=-1)\n",
    "y = mnist_train.targets[idx].numpy()\n",
    "image = mnist_train.data[idx,:,:].numpy()\n",
    "plt.figure(figsize = (4,4))\n",
    "plt.imshow(image, cmap='Greys', interpolation='quadric')\n",
    "plt.grid(None)\n",
    "plt.axis('off')\n",
    "plt.show()"
   ]
  },
  {
   "cell_type": "code",
   "execution_count": null,
   "metadata": {},
   "outputs": [],
   "source": [
    "print(f\"This is a {y}\")"
   ]
  },
  {
   "cell_type": "code",
   "execution_count": null,
   "metadata": {},
   "outputs": [],
   "source": [
    "predict0 = model0(x)\n",
    "\n",
    "predictions_probs = torch.exp(predict0).detach().squeeze()\n",
    "predicted_class = np.squeeze(np.argmax(predictions_probs, axis=-1))\n",
    "print(\"Predicted probabilities: [\"+\", \".join('%5.4f'%x for x in predictions_probs)+\"]\")\n",
    "print(f\"Class: {y}. Prediction: {predicted_class}\")"
   ]
  },
  {
   "cell_type": "code",
   "execution_count": null,
   "metadata": {},
   "outputs": [],
   "source": [
    "plot_label_dist(predictions_probs, predicted_class, y)"
   ]
  },
  {
   "cell_type": "code",
   "execution_count": null,
   "metadata": {},
   "outputs": [],
   "source": [
    "class NeuralNet1(nn.Module):\n",
    "    def __init__(self, h, w, hidden_size, num_classes):\n",
    "        super(NeuralNet1, self).__init__()\n",
    "        self.f = nn.Flatten()\n",
    "        self.l1 = nn.Linear(w*h, hidden_size) \n",
    "        self.relu = nn.ReLU()\n",
    "        self.l2 = nn.Linear(hidden_size, num_classes)\n",
    "        self.ls = nn.LogSoftmax(dim=1)\n",
    "        \n",
    "    def forward(self, x):\n",
    "        out = self.f(x)\n",
    "        out = self.l1(out)\n",
    "        out = self.relu(out)\n",
    "        out = self.l2(out)\n",
    "        out = self.ls(out)\n",
    "        return out"
   ]
  },
  {
   "cell_type": "code",
   "execution_count": null,
   "metadata": {},
   "outputs": [],
   "source": [
    "hidden_size = 512\n",
    "model1 = NeuralNet1(height, width, hidden_size, num_classes)"
   ]
  },
  {
   "cell_type": "code",
   "execution_count": null,
   "metadata": {},
   "outputs": [],
   "source": [
    "summary(model1)"
   ]
  },
  {
   "cell_type": "code",
   "execution_count": null,
   "metadata": {},
   "outputs": [],
   "source": [
    "learning_rate = 0.001\n",
    "\n",
    "loss_func1 = nn.NLLLoss(reduction='sum')\n",
    "optimizer1 = torch.optim.Adam(model1.parameters(), lr=learning_rate)"
   ]
  },
  {
   "cell_type": "code",
   "execution_count": null,
   "metadata": {},
   "outputs": [],
   "source": [
    "num_epochs = 3"
   ]
  },
  {
   "cell_type": "code",
   "execution_count": null,
   "metadata": {},
   "outputs": [],
   "source": [
    "h, h_batch = train(model1, loaders, loss_func1, num_epochs, optimizer1, report=True)"
   ]
  },
  {
   "cell_type": "code",
   "execution_count": null,
   "metadata": {},
   "outputs": [],
   "source": [
    "plot_metrics('3-layer MLP', h, h_batch)"
   ]
  },
  {
   "cell_type": "code",
   "execution_count": null,
   "metadata": {},
   "outputs": [],
   "source": [
    "\n",
    "ptr, ytr, pte, yte = predict(model1, loaders)"
   ]
  },
  {
   "cell_type": "code",
   "execution_count": null,
   "metadata": {},
   "outputs": [],
   "source": [
    "plt.figure(figsize=(12,6))\n",
    "disp = ConfusionMatrixDisplay.from_predictions(ytr, ptr, normalize='true', cmap='Blues')\n",
    "disp.figure_.suptitle(\"Confusion Matrix Training Set\")\n",
    "plt.grid(None)\n",
    "plt.show()           "
   ]
  },
  {
   "cell_type": "code",
   "execution_count": null,
   "metadata": {},
   "outputs": [],
   "source": [
    "print('Training set')\n",
    "print(classification_report(ytr, ptr))"
   ]
  },
  {
   "cell_type": "code",
   "execution_count": null,
   "metadata": {},
   "outputs": [],
   "source": [
    "plt.figure(figsize=(12,6))\n",
    "disp = ConfusionMatrixDisplay.from_predictions(yte, pte, normalize='true', cmap='Blues')\n",
    "disp.figure_.suptitle(\"Confusion Matrix Test Set\")\n",
    "plt.grid(None)\n",
    "plt.show()"
   ]
  },
  {
   "cell_type": "code",
   "execution_count": null,
   "metadata": {},
   "outputs": [],
   "source": [
    "print('Test set')\n",
    "print(classification_report(yte, pte))"
   ]
  },
  {
   "cell_type": "code",
   "execution_count": null,
   "metadata": {},
   "outputs": [],
   "source": [
    "hidden_size1 = 512\n",
    "hidden_size2 = 256\n",
    "\n",
    "dropout_rate1 = .2\n",
    "dropout_rate2 = .2"
   ]
  },
  {
   "cell_type": "code",
   "execution_count": null,
   "metadata": {
    "jupyter": {
     "outputs_hidden": false
    }
   },
   "outputs": [],
   "source": [
    "class NeuralNet2(nn.Module):\n",
    "    def __init__(self, h, w, hidden_size1, hidden_size2, dropout_rate1, dropout_rate2, num_classes):\n",
    "        super(NeuralNet2, self).__init__()\n",
    "        self.f = nn.Flatten()\n",
    "        self.l1 = nn.Linear(w*h, hidden_size1) \n",
    "        self.relu1 = nn.ReLU()\n",
    "        self.dropout1 = nn.Dropout(p=dropout_rate1)\n",
    "        self.l2 = nn.Linear(hidden_size1, hidden_size2) \n",
    "        self.relu2 = nn.ReLU()\n",
    "        self.dropout2 = nn.Dropout(p=dropout_rate2)\n",
    "        self.l3 = nn.Linear(hidden_size2, num_classes)\n",
    "        self.ls = nn.LogSoftmax(dim=1)\n",
    "        \n",
    "    def forward(self, x):\n",
    "        out = self.f(x)\n",
    "        out = self.l1(out)\n",
    "        out = self.relu1(out)\n",
    "        out = self.dropout1(out)\n",
    "        out = self.l2(out)\n",
    "        out = self.relu2(out)\n",
    "        out = self.dropout2(out)\n",
    "        out = self.l3(out)\n",
    "        out = self.ls(out)\n",
    "        return out"
   ]
  },
  {
   "cell_type": "code",
   "execution_count": null,
   "metadata": {},
   "outputs": [],
   "source": [
    "model2 = NeuralNet2(height, width, hidden_size1, hidden_size2, dropout_rate1, dropout_rate2, num_classes)"
   ]
  },
  {
   "cell_type": "code",
   "execution_count": null,
   "metadata": {
    "jupyter": {
     "outputs_hidden": false
    }
   },
   "outputs": [],
   "source": [
    "s = 0\n",
    "for name, param in model2.named_parameters():\n",
    "    print(f\"Parameter {name}, shape {param.shape}, {param.numel()} coefficients\")\n",
    "    s += param.numel()\n",
    "print(f\"{s} coefficients overall\")"
   ]
  },
  {
   "cell_type": "code",
   "execution_count": null,
   "metadata": {
    "jupyter": {
     "outputs_hidden": false
    }
   },
   "outputs": [],
   "source": [
    "learning_rate = 0.001\n",
    "\n",
    "loss_func2 = nn.NLLLoss(reduction='sum')\n",
    "optimizer2 = torch.optim.Adam(model2.parameters(), lr=learning_rate)"
   ]
  },
  {
   "cell_type": "code",
   "execution_count": null,
   "metadata": {},
   "outputs": [],
   "source": [
    "num_epochs = 3"
   ]
  },
  {
   "cell_type": "code",
   "execution_count": null,
   "metadata": {
    "jupyter": {
     "outputs_hidden": false
    }
   },
   "outputs": [],
   "source": [
    "h, h_batch = train(model2, loaders, loss_func2, num_epochs, optimizer2, report=True)"
   ]
  },
  {
   "cell_type": "code",
   "execution_count": null,
   "metadata": {
    "jupyter": {
     "outputs_hidden": false
    }
   },
   "outputs": [],
   "source": [
    "plot_metrics('4-layer MLP', h, h_batch)"
   ]
  },
  {
   "cell_type": "code",
   "execution_count": null,
   "metadata": {},
   "outputs": [],
   "source": [
    "ptr, ytr, pte, yte = predict(model2, loaders)"
   ]
  },
  {
   "cell_type": "code",
   "execution_count": null,
   "metadata": {
    "jupyter": {
     "outputs_hidden": false
    }
   },
   "outputs": [],
   "source": [
    "plt.figure(figsize=(12,6))\n",
    "disp = ConfusionMatrixDisplay.from_predictions(ytr, ptr, normalize='true', cmap='Blues')\n",
    "disp.figure_.suptitle(\"Confusion Matrix Training Set\")\n",
    "plt.grid(None)\n",
    "plt.show()   "
   ]
  },
  {
   "cell_type": "code",
   "execution_count": null,
   "metadata": {
    "jupyter": {
     "outputs_hidden": false
    }
   },
   "outputs": [],
   "source": [
    "print('Training set')\n",
    "print(classification_report(ytr, ptr))"
   ]
  },
  {
   "cell_type": "code",
   "execution_count": null,
   "metadata": {},
   "outputs": [],
   "source": [
    "plt.figure(figsize=(12,6))\n",
    "disp = ConfusionMatrixDisplay.from_predictions(yte, pte, normalize='true', cmap='Blues')\n",
    "disp.figure_.suptitle(\"Confusion Matrix Test Set\")\n",
    "plt.grid(None)\n",
    "plt.show()   "
   ]
  },
  {
   "cell_type": "code",
   "execution_count": null,
   "metadata": {
    "jupyter": {
     "outputs_hidden": false
    }
   },
   "outputs": [],
   "source": [
    "print('Test set')\n",
    "print(classification_report(yte, pte))"
   ]
  },
  {
   "cell_type": "code",
   "execution_count": null,
   "metadata": {},
   "outputs": [],
   "source": [
    "class NeuralNet3(nn.Module):\n",
    "    def __init__(self, n_channels, num_classes):\n",
    "        super(NeuralNet3, self).__init__()\n",
    "        self.conv1 = nn.Conv2d(n_channels, 4, 5)# input (1,28,28) output (4, 24, 24)\n",
    "        self.bn1 = nn.BatchNorm2d(4)# input (4, 24, 24) output (4, 24, 24)\n",
    "        self.relu1 = nn.ReLU()# input (4, 24, 24) output (4, 24, 24)\n",
    "        self.pool1 = nn.MaxPool2d(2, 2)# input (4, 24, 24) output (4, 12, 12)\n",
    "        self.conv2 = nn.Conv2d(4, 6, 3)# input (4, 12, 12) output (6, 10, 10)\n",
    "        self.bn2 = nn.BatchNorm2d(6)# input (6, 10, 10) output (6, 10, 10)\n",
    "        self.relu2 = nn.ReLU()# input (6, 10, 10) output (6, 10, 10)\n",
    "        self.pool2 = nn.MaxPool2d(3, 2)# input (6, 10, 10) output (6, 4, 4)\n",
    "        self.f = nn.Flatten()\n",
    "        self.l1 = nn.Linear(6*4*4, 32) \n",
    "        self.relu1 = nn.ReLU()\n",
    "        self.l3 = nn.Linear(32, num_classes)\n",
    "        self.ls = nn.LogSoftmax(dim=1)\n",
    "        \n",
    "    def forward(self, x):\n",
    "        out = self.conv1(x)\n",
    "        out = self.bn1(out)\n",
    "        out = self.relu1(out)\n",
    "        out = self.pool1(out)\n",
    "        out = self.conv2(out)\n",
    "        out = self.bn2(out)\n",
    "        out = self.relu2(out)\n",
    "        out = self.pool2(out)\n",
    "        out = self.f(out)\n",
    "        out = self.l1(out)\n",
    "        out = self.relu1(out)\n",
    "        out = self.l3(out)\n",
    "        out = self.ls(out)\n",
    "        return out"
   ]
  },
  {
   "cell_type": "code",
   "execution_count": null,
   "metadata": {},
   "outputs": [],
   "source": [
    "n_channels = 1\n",
    "model3 = NeuralNet3(n_channels, num_classes)"
   ]
  },
  {
   "cell_type": "code",
   "execution_count": null,
   "metadata": {},
   "outputs": [],
   "source": [
    "print(model3)"
   ]
  },
  {
   "cell_type": "code",
   "execution_count": null,
   "metadata": {},
   "outputs": [],
   "source": [
    "s = 0\n",
    "for name, param in model3.named_parameters():\n",
    "    print(f\"Parameter {name}, shape {param.shape}, {param.numel()} coefficients\")\n",
    "    s += param.numel()\n",
    "print(f\"{s} coefficients overall\")"
   ]
  },
  {
   "cell_type": "code",
   "execution_count": null,
   "metadata": {
    "jupyter": {
     "outputs_hidden": false
    }
   },
   "outputs": [],
   "source": [
    "learning_rate = 0.001\n",
    "\n",
    "loss_func3 = nn.NLLLoss(reduction='sum')\n",
    "optimizer3 = torch.optim.Adam(model3.parameters(), lr=learning_rate)"
   ]
  },
  {
   "cell_type": "code",
   "execution_count": null,
   "metadata": {},
   "outputs": [],
   "source": [
    "num_epochs = 3"
   ]
  },
  {
   "cell_type": "code",
   "execution_count": null,
   "metadata": {
    "jupyter": {
     "outputs_hidden": false
    }
   },
   "outputs": [],
   "source": [
    "h, h_batch = train(model3, loaders, loss_func3, num_epochs, optimizer3, report=True)"
   ]
  },
  {
   "cell_type": "code",
   "execution_count": null,
   "metadata": {
    "jupyter": {
     "outputs_hidden": false
    }
   },
   "outputs": [],
   "source": [
    "plot_metrics('Convolutional', h, h_batch)"
   ]
  },
  {
   "cell_type": "code",
   "execution_count": null,
   "metadata": {},
   "outputs": [],
   "source": [
    "ptr, ytr, pte, yte = predict(model3, loaders)"
   ]
  },
  {
   "cell_type": "code",
   "execution_count": null,
   "metadata": {
    "jupyter": {
     "outputs_hidden": false
    }
   },
   "outputs": [],
   "source": [
    "plt.figure(figsize=(12,6))\n",
    "disp = ConfusionMatrixDisplay.from_predictions(ytr, ptr, normalize='true', cmap='Blues')\n",
    "disp.figure_.suptitle(\"Confusion Matrix Training Set\")\n",
    "plt.grid(None)\n",
    "plt.show()  "
   ]
  },
  {
   "cell_type": "code",
   "execution_count": null,
   "metadata": {
    "jupyter": {
     "outputs_hidden": false
    }
   },
   "outputs": [],
   "source": [
    "print('Training set')\n",
    "print(classification_report(ytr, ptr))"
   ]
  },
  {
   "cell_type": "code",
   "execution_count": null,
   "metadata": {},
   "outputs": [],
   "source": [
    "plt.figure(figsize=(12,6))\n",
    "disp = ConfusionMatrixDisplay.from_predictions(yte, pte, normalize='true', cmap='Blues')\n",
    "disp.figure_.suptitle(\"Confusion Matrix Test Set\")\n",
    "plt.grid(None)\n",
    "plt.show()  "
   ]
  },
  {
   "cell_type": "code",
   "execution_count": null,
   "metadata": {
    "jupyter": {
     "outputs_hidden": false
    }
   },
   "outputs": [],
   "source": [
    "print('Test set')\n",
    "print(classification_report(yte, pte))"
   ]
  },
  {
   "cell_type": "code",
   "execution_count": null,
   "metadata": {},
   "outputs": [],
   "source": [
    "class NeuralNet4(nn.Module):\n",
    "    def __init__(self, n_channels, num_classes):\n",
    "        super(NeuralNet4, self).__init__()\n",
    "        self.conv1 = nn.Conv2d(n_channels, 12, kernel_size=3, stride=1, padding=2)# input (1,28,28) output (12, 30, 30)\n",
    "        self.bn1 = nn.BatchNorm2d(12)# input (12, 30, 30) output (12, 30, 30)\n",
    "        self.relu1 = nn.ReLU()# input (12, 30, 30) output (12, 30, 30)\n",
    "        self.pool1 = nn.AvgPool2d(2, 2)# input (12, 30, 30) output (12, 15, 15)\n",
    "        self.conv2 = nn.Conv2d(12, 6, kernel_size=3)# input (12, 15, 15) output (6, 13, 13)\n",
    "        self.bn2 = nn.BatchNorm2d(6)# input (6, 13, 13) output (6, 13, 13)\n",
    "        self.relu2 = nn.ReLU()# input (6, 13, 13) output (6, 13, 13)\n",
    "        self.f = nn.Flatten()# input (6, 13, 13) output (1014)\n",
    "        self.d = nn.Dropout(p=.3)# input (1014) output (1014)\n",
    "        self.l1 = nn.Linear(1014, 64)# input (1014) output (64)\n",
    "        self.relu3 = nn.ReLU()# input (64) output (64)\n",
    "        self.l3 = nn.Linear(64, num_classes)# input (64) output (10)\n",
    "        self.ls = nn.LogSoftmax(dim=1)# input (10) output (10)\n",
    "        \n",
    "    def forward(self, x):\n",
    "        out = self.conv1(x)\n",
    "        out = self.bn1(out)\n",
    "        out = self.relu1(out)\n",
    "        out = self.pool1(out)\n",
    "        out = self.conv2(out)\n",
    "        out = self.bn2(out)\n",
    "        out = self.relu2(out)\n",
    "        out = self.f(out)\n",
    "        out = self.d(out)\n",
    "        out = self.l1(out)\n",
    "        out = self.relu3(out)\n",
    "        out = self.l3(out)\n",
    "        out = self.ls(out)\n",
    "        return out"
   ]
  },
  {
   "cell_type": "code",
   "execution_count": null,
   "metadata": {},
   "outputs": [],
   "source": [
    "n_channels = 1\n",
    "model4 = NeuralNet4(n_channels, num_classes)"
   ]
  },
  {
   "cell_type": "code",
   "execution_count": null,
   "metadata": {},
   "outputs": [],
   "source": [
    "print(model4)"
   ]
  },
  {
   "cell_type": "code",
   "execution_count": null,
   "metadata": {},
   "outputs": [],
   "source": [
    "s = 0\n",
    "for name, param in model4.named_parameters():\n",
    "    print(f\"Parameter {name}, shape {param.shape}, {param.numel()} coefficients\")\n",
    "    s += param.numel()\n",
    "print(f\"{s} coefficients overall\")"
   ]
  },
  {
   "cell_type": "code",
   "execution_count": null,
   "metadata": {},
   "outputs": [],
   "source": [
    "learning_rate = 0.001\n",
    "\n",
    "loss_func4 = nn.NLLLoss(reduction='sum')\n",
    "optimizer4 = torch.optim.Adam(model4.parameters(), lr=learning_rate)"
   ]
  },
  {
   "cell_type": "code",
   "execution_count": null,
   "metadata": {},
   "outputs": [],
   "source": [
    "num_epochs = 2\n",
    "h, h_batch = train(model4, loaders, loss_func4, num_epochs, optimizer4, report=True)"
   ]
  },
  {
   "cell_type": "code",
   "execution_count": null,
   "metadata": {},
   "outputs": [],
   "source": [
    "plot_metrics('Convolutional 2', h, h_batch)"
   ]
  },
  {
   "cell_type": "code",
   "execution_count": null,
   "metadata": {},
   "outputs": [],
   "source": [
    "ptr, ytr, pte, yte = predict(model4, loaders)"
   ]
  },
  {
   "cell_type": "code",
   "execution_count": null,
   "metadata": {},
   "outputs": [],
   "source": [
    "plt.figure(figsize=(12,6))\n",
    "disp = ConfusionMatrixDisplay.from_predictions(ytr, ptr, normalize='true', cmap='Blues')\n",
    "disp.figure_.suptitle(\"Confusion Matrix Training Set\")\n",
    "plt.grid(None)\n",
    "plt.show()  "
   ]
  },
  {
   "cell_type": "code",
   "execution_count": null,
   "metadata": {},
   "outputs": [],
   "source": [
    "print('Training set')\n",
    "print(classification_report(ytr, ptr))"
   ]
  },
  {
   "cell_type": "code",
   "execution_count": null,
   "metadata": {
    "jupyter": {
     "outputs_hidden": false
    }
   },
   "outputs": [],
   "source": [
    "plt.figure(figsize=(12,6))\n",
    "disp = ConfusionMatrixDisplay.from_predictions(yte, pte, normalize='true', cmap='Blues')\n",
    "disp.figure_.suptitle(\"Confusion Matrix Test Set\")\n",
    "plt.grid(None)\n",
    "plt.show()  "
   ]
  },
  {
   "cell_type": "code",
   "execution_count": null,
   "metadata": {},
   "outputs": [],
   "source": [
    "print('Test set')\n",
    "print(classification_report(yte, pte))"
   ]
  }
 ],
 "metadata": {
  "anaconda-cloud": {},
  "kernelspec": {
   "display_name": "Python 3 (ipykernel)",
   "language": "python",
   "name": "python3"
  },
  "language_info": {
   "codemirror_mode": {
    "name": "ipython",
    "version": 3
   },
   "file_extension": ".py",
   "mimetype": "text/x-python",
   "name": "python",
   "nbconvert_exporter": "python",
   "pygments_lexer": "ipython3",
   "version": "3.10.6"
  },
  "vscode": {
   "interpreter": {
    "hash": "ce48646bb6368aff8c12a2b8eeb9d1b908c9dd0a6e2925fc70e8d8f5f2053bd1"
   }
  }
 },
 "nbformat": 4,
 "nbformat_minor": 4
}
